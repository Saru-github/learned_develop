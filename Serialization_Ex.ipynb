{
 "cells": [
  {
   "cell_type": "markdown",
   "id": "529d5d23",
   "metadata": {
    "pycharm": {
     "name": "#%% md\n"
    }
   },
   "source": [
    "# pickle 모듈을 이용한 직렬화/역직렬화"
   ]
  },
  {
   "cell_type": "code",
   "execution_count": 74,
   "id": "5fb157db",
   "metadata": {
    "pycharm": {
     "name": "#%%\n"
    }
   },
   "outputs": [],
   "source": [
    "from emp import Emp"
   ]
  },
  {
   "cell_type": "code",
   "execution_count": 75,
   "id": "f324a19a",
   "metadata": {
    "pycharm": {
     "name": "#%%\n"
    }
   },
   "outputs": [],
   "source": [
    "import pickle"
   ]
  },
  {
   "cell_type": "code",
   "execution_count": 76,
   "id": "1aa81762",
   "metadata": {
    "pycharm": {
     "name": "#%%\n"
    }
   },
   "outputs": [],
   "source": [
    "emp = Emp(11, 'Smith', '010-2394-5410')"
   ]
  },
  {
   "cell_type": "markdown",
   "id": "8c657687",
   "metadata": {
    "pycharm": {
     "name": "#%% md\n"
    }
   },
   "source": [
    "## 객체 직렬화(Object Serialization)"
   ]
  },
  {
   "cell_type": "code",
   "execution_count": 77,
   "id": "9c413bcf",
   "metadata": {
    "pycharm": {
     "name": "#%%\n"
    }
   },
   "outputs": [
    {
     "name": "stdout",
     "output_type": "stream",
     "text": [
      "객체 직렬화 성공\n"
     ]
    }
   ],
   "source": [
    "# 객체 직렬화(Serialization)\n",
    "fw = open('empObj.pickle', 'wb')\n",
    "pickle.dump(emp, fw)\n",
    "fw.close()\n",
    "print('객체 직렬화 성공')"
   ]
  },
  {
   "cell_type": "markdown",
   "id": "0595c612",
   "metadata": {
    "pycharm": {
     "name": "#%% md\n"
    }
   },
   "source": [
    "## 역직렬화(De-Serialization)"
   ]
  },
  {
   "cell_type": "code",
   "execution_count": 78,
   "id": "14df7da9",
   "metadata": {
    "pycharm": {
     "name": "#%%\n"
    }
   },
   "outputs": [
    {
     "name": "stdout",
     "output_type": "stream",
     "text": [
      "11\tSmith\t010-2394-5410\n",
      "Smith\n"
     ]
    }
   ],
   "source": [
    "fr = open('empObj.pickle', 'rb')\n",
    "emp2 = pickle.load(fr)\n",
    "fr.close()\n",
    "print(emp2)\n",
    "print(emp2.name)"
   ]
  },
  {
   "cell_type": "code",
   "execution_count": 79,
   "id": "5c371bc8",
   "metadata": {
    "scrolled": true,
    "pycharm": {
     "name": "#%%\n"
    }
   },
   "outputs": [
    {
     "data": {
      "text/plain": "True"
     },
     "execution_count": 79,
     "metadata": {},
     "output_type": "execute_result"
    }
   ],
   "source": [
    "emp==emp2   #  emp.__eq__(emp2)"
   ]
  },
  {
   "cell_type": "code",
   "execution_count": 80,
   "id": "de448809",
   "metadata": {
    "pycharm": {
     "name": "#%%\n"
    }
   },
   "outputs": [],
   "source": [
    "emplist = [ Emp(11), Emp(12), Emp(13) ]"
   ]
  },
  {
   "cell_type": "code",
   "execution_count": 81,
   "id": "43176ec1",
   "metadata": {
    "pycharm": {
     "name": "#%%\n"
    }
   },
   "outputs": [
    {
     "name": "stdout",
     "output_type": "stream",
     "text": [
      "리스트 직렬화 완료\n"
     ]
    }
   ],
   "source": [
    "fw = open('emplist.pickle', 'wb')\n",
    "pickle.dump(emplist, fw)\n",
    "fw.close()\n",
    "\n",
    "print(\"리스트 직렬화 완료\")"
   ]
  },
  {
   "cell_type": "code",
   "execution_count": 82,
   "id": "f4da310c",
   "metadata": {
    "pycharm": {
     "name": "#%%\n"
    }
   },
   "outputs": [
    {
     "name": "stdout",
     "output_type": "stream",
     "text": [
      "11\tNone\tNone\n",
      "리스트 역직렬화 성공\n"
     ]
    }
   ],
   "source": [
    "fr = open('emplist.pickle', 'rb')\n",
    "emps = pickle.load(fr)\n",
    "fr.close()\n",
    "\n",
    "print(emps[0])\n",
    "print(\"리스트 역직렬화 성공\")"
   ]
  },
  {
   "cell_type": "code",
   "execution_count": 83,
   "id": "65bb01c6",
   "metadata": {
    "pycharm": {
     "name": "#%%\n"
    }
   },
   "outputs": [],
   "source": [
    "# 객체 > 텍스트 파일,   텍스트 > 객체 매핑\n",
    "# 객체 > 객체,   객체 > 객체"
   ]
  },
  {
   "cell_type": "code",
   "execution_count": 84,
   "id": "1370493e",
   "metadata": {
    "pycharm": {
     "name": "#%%\n"
    }
   },
   "outputs": [],
   "source": [
    "# 프로그램이 시작되면 메뉴 6개가 표시된다\n",
    "# 목록(s), 추가(a), 검색(f), 수정(u), 삭제(d), 종료(x)\n",
    "# 추가(a)하고 목록보기가 되도록 기능을 작성해보세요."
   ]
  },
  {
   "cell_type": "code",
   "execution_count": 85,
   "id": "dc565c80",
   "metadata": {
    "pycharm": {
     "name": "#%%\n"
    }
   },
   "outputs": [],
   "source": [
    "import pickle\n",
    "from emp import Emp"
   ]
  },
  {
   "cell_type": "code",
   "execution_count": 86,
   "id": "7e3a55aa",
   "metadata": {
    "pycharm": {
     "name": "#%%\n"
    }
   },
   "outputs": [],
   "source": [
    "emplist = []"
   ]
  },
  {
   "cell_type": "code",
   "execution_count": 87,
   "id": "cca3f17d",
   "metadata": {
    "pycharm": {
     "name": "#%%\n"
    }
   },
   "outputs": [],
   "source": [
    "def save_emplist():\n",
    "    saved = False\n",
    "    try:\n",
    "        with open('crud_list.pickle', 'wb') as fout:\n",
    "            pickle.dump(emplist, fout)\n",
    "            saved = True\n",
    "    except:\n",
    "        pass\n",
    "    return saved"
   ]
  },
  {
   "cell_type": "code",
   "execution_count": 88,
   "id": "66c677b5",
   "metadata": {
    "pycharm": {
     "name": "#%%\n"
    }
   },
   "outputs": [],
   "source": [
    "def add_emp(emp):\n",
    "    emplist.append(emp)\n",
    "    return save_emplist()"
   ]
  },
  {
   "cell_type": "code",
   "execution_count": 89,
   "id": "adcf8323",
   "metadata": {
    "pycharm": {
     "name": "#%%\n"
    }
   },
   "outputs": [],
   "source": [
    "def show_list():\n",
    "    with open('crud_list.pickle','rb') as fin:\n",
    "        elist = pickle.load(fin)\n",
    "        #elist.sort(key=lambda e:e.num)\n",
    "        elist.sort(key=lambda e:int(e.num))\n",
    "        for e in elist:\n",
    "            print(e)"
   ]
  },
  {
   "cell_type": "code",
   "execution_count": 90,
   "id": "4ce01ed5",
   "metadata": {
    "pycharm": {
     "name": "#%%\n"
    }
   },
   "outputs": [],
   "source": [
    "def find_emp(emp):\n",
    "    found = None\n",
    "    with open('crud_list.pickle','rb') as fin:\n",
    "        elist = pickle.load(fin)\n",
    "        if emp in elist:\n",
    "            found = elist[elist.index(emp)]\n",
    "    return found"
   ]
  },
  {
   "cell_type": "code",
   "execution_count": 91,
   "id": "0a7813da",
   "metadata": {
    "pycharm": {
     "name": "#%%\n"
    }
   },
   "outputs": [],
   "source": [
    "def update_emp(emp):\n",
    "    updated = None\n",
    "    global emplist   # 현재 함수 외부에 선언된 변수(global)\n",
    "    with open('crud_list.pickle','rb') as fin:\n",
    "        emplist = pickle.load(fin)\n",
    "        if emp in emplist:\n",
    "            emplist[emplist.index(emp)].phone = emp.phone\n",
    "            updated = save_emplist()\n",
    "    return updated"
   ]
  },
  {
   "cell_type": "code",
   "execution_count": 92,
   "id": "8b6fa8a4",
   "metadata": {
    "pycharm": {
     "name": "#%%\n"
    }
   },
   "outputs": [],
   "source": [
    "def delete_emp(emp):\n",
    "    global emplist\n",
    "    deleted = False\n",
    "    with open('crud_list.pickle','rb') as fin:\n",
    "        emplist = pickle.load(fin)\n",
    "        if emp in emplist:\n",
    "            emplist.remove(emp)\n",
    "            deleted = save_emplist()\n",
    "    return deleted"
   ]
  },
  {
   "cell_type": "code",
   "execution_count": 93,
   "id": "2932cdae",
   "metadata": {
    "pycharm": {
     "name": "#%%\n"
    }
   },
   "outputs": [],
   "source": [
    "def is_duplicate(emp):\n",
    "    with open('crud_list.pickle','rb') as fin:\n",
    "        emplist = pickle.load(fin)\n",
    "        if emp in emplist:\n",
    "            return True\n",
    "    return False"
   ]
  },
  {
   "cell_type": "code",
   "execution_count": 94,
   "id": "272c3be1",
   "metadata": {
    "pycharm": {
     "name": "#%%\n"
    }
   },
   "outputs": [
    {
     "name": "stdout",
     "output_type": "stream",
     "text": [
      "프로그램 종료...\n"
     ]
    }
   ],
   "source": [
    "while True:\n",
    "    \n",
    "    menu = input('목록(s), 추가(a), 검색(f), 수정(u), 삭제(d), 종료(x):').strip()\n",
    "    \n",
    "    if menu.upper()=='A':\n",
    "        num,name,phone = input('사원번호 이름 전화:').strip().split()\n",
    "        emp = Emp(num,name,phone)\n",
    "        if is_duplicate(emp):\n",
    "            print('번호 중복, 추가 실패!')\n",
    "            continue\n",
    "        if add_emp(emp):\n",
    "            print('사원정보 추가 성공')\n",
    "        else:\n",
    "            print('사원정보 추가 실패')\n",
    "            \n",
    "    elif menu.upper()=='S':\n",
    "        show_list()\n",
    "        \n",
    "    elif menu.upper()=='F':\n",
    "        sNum = input('검색할 사원번호:').strip()\n",
    "        found = find_emp( Emp(sNum))\n",
    "        if found:\n",
    "            print(found)\n",
    "        else:\n",
    "            print('검색 실패')\n",
    "            \n",
    "    elif menu.upper()=='U':\n",
    "        num,phone = input('변경할 사원번호 전화번호:').strip().split()\n",
    "        if update_emp( Emp(num, phone=phone)):\n",
    "            print('수정 성공')\n",
    "        else:\n",
    "            print('수정 실패')\n",
    "            \n",
    "    elif menu.upper()=='D':\n",
    "        sNum = input('삭제할 사원번호:').strip()\n",
    "        if delete_emp( Emp(sNum)) :\n",
    "            print('삭제 성공')\n",
    "        else:\n",
    "            print('삭제 실패')\n",
    "            \n",
    "    elif menu.upper()=='X':\n",
    "        break;\n",
    "    else:\n",
    "        print('메뉴입력 오류')\n",
    "        \n",
    "print('프로그램 종료...')"
   ]
  },
  {
   "cell_type": "code",
   "execution_count": 95,
   "id": "3e60a1f7",
   "metadata": {
    "scrolled": true,
    "pycharm": {
     "name": "#%%\n"
    }
   },
   "outputs": [
    {
     "name": "stdout",
     "output_type": "stream",
     "text": [
      "2\t2\t2\n",
      "4\t4\t4\n",
      "3\t3\t3\n"
     ]
    }
   ],
   "source": [
    "with open('crud_list.pickle','rb') as fin:\n",
    "        elist = pickle.load(fin)\n",
    "elist\n",
    "for e in elist:\n",
    "    print(e)"
   ]
  },
  {
   "cell_type": "code",
   "execution_count": 96,
   "id": "fdf00095",
   "metadata": {
    "scrolled": true,
    "pycharm": {
     "name": "#%%\n"
    }
   },
   "outputs": [
    {
     "name": "stdout",
     "output_type": "stream",
     "text": [
      "b'\\x80\\x04\\x95h\\x00\\x00\\x00\\x00\\x00\\x00\\x00]\\x94(\\x8c\\x03emp\\x94\\x8c\\x03Emp\\x94\\x93\\x94)\\x81\\x94}\\x94(\\x8c\\x03num\\x94\\x8c\\x012\\x94\\x8c\\x04name\\x94h\\x07\\x8c\\x05phone\\x94h\\x07ubh\\x03)\\x81\\x94}\\x94(h\\x06\\x8c\\x014\\x94h\\x08h\\x0ch\\th\\x0cubh\\x03)\\x81\\x94}\\x94(h\\x06\\x8c\\x013\\x94h\\x08h\\x0fh\\th\\x0fube.'\n"
     ]
    }
   ],
   "source": [
    "elist\n",
    "byte_arr = pickle.dumps(elist)\n",
    "print(byte_arr)"
   ]
  },
  {
   "cell_type": "code",
   "execution_count": 97,
   "id": "4a1f1c16",
   "metadata": {
    "pycharm": {
     "name": "#%%\n"
    }
   },
   "outputs": [
    {
     "name": "stdout",
     "output_type": "stream",
     "text": [
      "2\t2\t2\n",
      "4\t4\t4\n",
      "3\t3\t3\n"
     ]
    }
   ],
   "source": [
    "elist2 = pickle.loads(byte_arr)\n",
    "for e in elist2:\n",
    "    print(e)"
   ]
  },
  {
   "cell_type": "code",
   "execution_count": 98,
   "id": "d4c16d5c",
   "metadata": {
    "pycharm": {
     "name": "#%%\n"
    }
   },
   "outputs": [
    {
     "name": "stdout",
     "output_type": "stream",
     "text": [
      "2\t2\t2\n",
      "3\t3\t3\n",
      "4\t4\t4\n"
     ]
    }
   ],
   "source": [
    "elist.sort(key=lambda e:e.num)\n",
    "for e in elist:\n",
    "    print(e)"
   ]
  },
  {
   "cell_type": "code",
   "execution_count": 99,
   "id": "43ea814d",
   "metadata": {
    "scrolled": true,
    "pycharm": {
     "name": "#%%\n"
    }
   },
   "outputs": [
    {
     "data": {
      "text/plain": "[1, 2, 3, 4, 5]"
     },
     "execution_count": 99,
     "metadata": {},
     "output_type": "execute_result"
    }
   ],
   "source": [
    "nums = [3,5,1,4,2]\n",
    "sorted(nums)\n",
    "nums.sort()\n",
    "nums"
   ]
  },
  {
   "cell_type": "code",
   "execution_count": 100,
   "id": "7339b859",
   "metadata": {
    "pycharm": {
     "name": "#%%\n"
    }
   },
   "outputs": [],
   "source": [
    "outer_num = 100"
   ]
  },
  {
   "cell_type": "code",
   "execution_count": 101,
   "id": "d611b0db",
   "metadata": {
    "pycharm": {
     "name": "#%%\n"
    }
   },
   "outputs": [],
   "source": [
    "def value_use():\n",
    "    print(outer_num + 10)"
   ]
  },
  {
   "cell_type": "code",
   "execution_count": 102,
   "id": "fd469a44",
   "metadata": {
    "pycharm": {
     "name": "#%%\n"
    }
   },
   "outputs": [
    {
     "name": "stdout",
     "output_type": "stream",
     "text": [
      "110\n"
     ]
    }
   ],
   "source": [
    "value_use()"
   ]
  },
  {
   "cell_type": "code",
   "execution_count": 103,
   "id": "7cea86b9",
   "metadata": {
    "pycharm": {
     "name": "#%%\n"
    }
   },
   "outputs": [],
   "source": [
    "def value_change():\n",
    "    global outer_num\n",
    "    outer_num = 10\n",
    "    print(outer_num)  # 10"
   ]
  },
  {
   "cell_type": "code",
   "execution_count": 104,
   "id": "9dc9f6ab",
   "metadata": {
    "pycharm": {
     "name": "#%%\n"
    }
   },
   "outputs": [
    {
     "name": "stdout",
     "output_type": "stream",
     "text": [
      "10\n"
     ]
    }
   ],
   "source": [
    "value_change()"
   ]
  },
  {
   "cell_type": "code",
   "execution_count": 105,
   "id": "ecb94ccd",
   "metadata": {
    "pycharm": {
     "name": "#%%\n"
    }
   },
   "outputs": [
    {
     "data": {
      "text/plain": "10"
     },
     "execution_count": 105,
     "metadata": {},
     "output_type": "execute_result"
    }
   ],
   "source": [
    "outer_num"
   ]
  },
  {
   "cell_type": "code",
   "execution_count": 106,
   "id": "b7d87d96",
   "metadata": {
    "pycharm": {
     "name": "#%%\n"
    }
   },
   "outputs": [],
   "source": [
    "def value_use2():\n",
    "    num = outer_num+100\n",
    "    print(num)"
   ]
  },
  {
   "cell_type": "code",
   "execution_count": 107,
   "id": "b8089d32",
   "metadata": {
    "pycharm": {
     "name": "#%%\n"
    }
   },
   "outputs": [
    {
     "name": "stdout",
     "output_type": "stream",
     "text": [
      "110\n"
     ]
    }
   ],
   "source": [
    "value_use2()"
   ]
  },
  {
   "cell_type": "code",
   "execution_count": 108,
   "outputs": [
    {
     "data": {
      "text/plain": "[]"
     },
     "execution_count": 108,
     "metadata": {},
     "output_type": "execute_result"
    }
   ],
   "source": [
    "# dumps(), loads()\n",
    "emplist"
   ],
   "metadata": {
    "collapsed": false,
    "pycharm": {
     "name": "#%%\n"
    }
   }
  },
  {
   "cell_type": "markdown",
   "source": [
    "#Thread_Ex"
   ],
   "metadata": {
    "collapsed": false,
    "pycharm": {
     "name": "#%% md\n"
    }
   }
  },
  {
   "cell_type": "code",
   "execution_count": 109,
   "outputs": [],
   "source": [
    "# Thread, Runnable, run()\n",
    "# Process : 현재 실행중인 프로그램\n",
    "# Process 안에서 동시에 실행 가능한 소규모 Process\n",
    "# 함수, 메소드, run()"
   ],
   "metadata": {
    "collapsed": false,
    "pycharm": {
     "name": "#%%\n"
    }
   }
  },
  {
   "cell_type": "code",
   "execution_count": 110,
   "outputs": [],
   "source": [
    "import threading\n",
    "import time\n",
    "import datetime"
   ],
   "metadata": {
    "collapsed": false,
    "pycharm": {
     "name": "#%%\n"
    }
   }
  },
  {
   "cell_type": "code",
   "execution_count": 111,
   "outputs": [],
   "source": [
    "def t1(name):\n",
    "    while True:\n",
    "        print(name, datetime.datetime.now())\n",
    "        time.sleep(1)"
   ],
   "metadata": {
    "collapsed": false,
    "pycharm": {
     "name": "#%%\n"
    }
   }
  },
  {
   "cell_type": "code",
   "execution_count": 112,
   "outputs": [],
   "source": [
    "\n",
    "# t1('Date Thread')"
   ],
   "metadata": {
    "collapsed": false,
    "pycharm": {
     "name": "#%%\n"
    }
   }
  },
  {
   "cell_type": "code",
   "execution_count": 113,
   "outputs": [],
   "source": [
    "def t2(name):\n",
    "    i = 0\n",
    "    while True:\n",
    "        i += 1\n",
    "        print(name, i)\n",
    "        time.sleep(1)"
   ],
   "metadata": {
    "collapsed": false,
    "pycharm": {
     "name": "#%%\n"
    }
   }
  },
  {
   "cell_type": "code",
   "execution_count": 114,
   "outputs": [],
   "source": [
    "# t2('Num Thread')"
   ],
   "metadata": {
    "collapsed": false,
    "pycharm": {
     "name": "#%%\n"
    }
   }
  },
  {
   "cell_type": "code",
   "execution_count": 115,
   "outputs": [
    {
     "name": "stdout",
     "output_type": "stream",
     "text": [
      "Date Thread 2022-05-11 10:01:45.407547Num Thread 1\n",
      "\n"
     ]
    }
   ],
   "source": [
    "th1 = threading.Thread(target=t1, args=('Date Thread',))\n",
    "th1.daemon = True\n",
    "th1.start()\n",
    "\n",
    "th2 = threading.Thread(target=t2, args=('Num Thread',))\n",
    "th2.daemon = True\n",
    "th2.start()"
   ],
   "metadata": {
    "collapsed": false,
    "pycharm": {
     "name": "#%%\n"
    }
   }
  },
  {
   "cell_type": "code",
   "execution_count": 116,
   "outputs": [],
   "source": [
    "# 객체의 멤버 메소드를 쓰레드의 타켓으로 설정하는 예\n",
    "# threading. Thread(target=obj.method), args=('Date Thread',))"
   ],
   "metadata": {
    "collapsed": false,
    "pycharm": {
     "name": "#%%\n"
    }
   }
  },
  {
   "cell_type": "code",
   "execution_count": 123,
   "outputs": [
    {
     "name": "stdout",
     "output_type": "stream",
     "text": [
      "game thread instanciated\n",
      "2022-05-11 10:23:53.686125\n"
     ]
    }
   ],
   "source": [
    "import threading\n",
    "import datetime\n",
    "import time\n",
    "\n",
    "# 가상의 CPU역활을 하는 클래스 정의\n",
    "class MyGame(threading.Thread): # Thread 클래스 상속\n",
    "    def __init__(self, name):\n",
    "        threading.Thread.__init__(self)\n",
    "        print(name, 'instanciated')\n",
    "        self.daemon = True\n",
    "\n",
    "    def run(self):\n",
    "        while True:\n",
    "            print(datetime.datetime.now())\n",
    "            time.sleep(1) # 1초 쉼\n",
    "\n",
    "my_thread = MyGame('game thread')\n",
    "# my_thread.daemon = True\n",
    "my_thread.start()"
   ],
   "metadata": {
    "collapsed": false,
    "pycharm": {
     "name": "#%%\n"
    }
   }
  },
  {
   "cell_type": "code",
   "execution_count": 143,
   "outputs": [
    {
     "name": "stdout",
     "output_type": "stream",
     "text": [
      "1Num Thread\n",
      " 2301\n",
      "2022-05-11 10:40:26.752813\n"
     ]
    }
   ],
   "source": [
    "import threading\n",
    "import datetime\n",
    "import time\n",
    "\n",
    "class CountDownThread(threading.Thread): # Thread 클래스 상속\n",
    "    def __init__(self, name, num):\n",
    "        threading.Thread.__init__(self)\n",
    "        self.name=name\n",
    "        self.num=num\n",
    "        print(name, 'instanciated')\n",
    "        self.daemon = True\n",
    "\n",
    "    def run(self):\n",
    "        print(self.name,' 쓰레드 시작')\n",
    "        while True:\n",
    "            self.num -=1\n",
    "            print(self.name, '->', self.num)\n",
    "            if self.num==0:\n",
    "                print(self.name + '쓰레드 종료')\n",
    "                break\n",
    "            time.sleep(1) # 1초 쉼"
   ],
   "metadata": {
    "collapsed": false,
    "pycharm": {
     "name": "#%%\n"
    }
   }
  },
  {
   "cell_type": "code",
   "execution_count": 157,
   "outputs": [
    {
     "name": "stdout",
     "output_type": "stream",
     "text": [
      "10 -> 1\n",
      "2022-05-11 10:45:06.760419\n",
      "Date Thread 2022-05-11 10:45:06.962552\n",
      "20 -> 12\n",
      "1030 -> 4\n",
      " -> 23\n",
      "2022-05-11 10:45:07.238622\n",
      "Num Thread 2579\n",
      "1\n",
      "10 -> 0\n",
      "10쓰레드 종료\n",
      "2022-05-11 10:45:07.768566\n",
      "10 instanciated\n",
      "10  쓰레드 시작\n",
      "10 -> 9\n"
     ]
    }
   ],
   "source": [
    "num=input('카운트 다운 수 입력: ')\n",
    "CountDownThread(num, int(num)).start()"
   ],
   "metadata": {
    "collapsed": false,
    "pycharm": {
     "name": "#%%\n"
    }
   }
  },
  {
   "cell_type": "code",
   "execution_count": 151,
   "outputs": [
    {
     "name": "stdout",
     "output_type": "stream",
     "text": [
      "20 -> 12\n"
     ]
    }
   ],
   "source": [],
   "metadata": {
    "collapsed": false,
    "pycharm": {
     "name": "#%%\n"
    }
   }
  },
  {
   "cell_type": "code",
   "execution_count": 149,
   "outputs": [],
   "source": [],
   "metadata": {
    "collapsed": false,
    "pycharm": {
     "name": "#%%\n"
    }
   }
  },
  {
   "cell_type": "code",
   "execution_count": null,
   "outputs": [],
   "source": [],
   "metadata": {
    "collapsed": false,
    "pycharm": {
     "name": "#%%\n"
    }
   }
  }
 ],
 "metadata": {
  "kernelspec": {
   "display_name": "Python 3 (ipykernel)",
   "language": "python",
   "name": "python3"
  },
  "language_info": {
   "codemirror_mode": {
    "name": "ipython",
    "version": 3
   },
   "file_extension": ".py",
   "mimetype": "text/x-python",
   "name": "python",
   "nbconvert_exporter": "python",
   "pygments_lexer": "ipython3",
   "version": "3.9.7"
  },
  "vp": {
   "vp_config_version": "1.0.0",
   "vp_menu_width": 273,
   "vp_note_display": true,
   "vp_note_width": 263,
   "vp_position": {
    "width": 541
   },
   "vp_section_display": false,
   "vp_signature": "VisualPython"
  }
 },
 "nbformat": 4,
 "nbformat_minor": 5
}