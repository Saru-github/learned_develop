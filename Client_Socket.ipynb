{
 "cells": [
  {
   "cell_type": "code",
   "execution_count": 9,
   "metadata": {
    "collapsed": true,
    "pycharm": {
     "name": "#%%\n"
    }
   },
   "outputs": [],
   "source": [
    "# 서버에 접속, 데이터 송수신\n",
    "# 서버는 클라이언트 접속 대기 상태로 존재 해야함\n",
    "# 서버는 특정 클라이언트 간의 통신 중개 역할"
   ]
  },
  {
   "cell_type": "markdown",
   "source": [],
   "metadata": {
    "collapsed": false,
    "pycharm": {
     "name": "#%% md\n"
    }
   }
  },
  {
   "cell_type": "code",
   "execution_count": 4,
   "outputs": [],
   "source": [
    "import pickle\n",
    "class ChatMsg:\n",
    "    def __init__(self, contents, to=None, frm=None, attach=None):\n",
    "        self.contents = contents\n",
    "        self.to = to\n",
    "        self.frm = frm\n",
    "        self.attach = attach\n",
    "\n",
    "    def __str__(self):\n",
    "        return \"contents={}, frm={}, to={}\".format(self.contents, self.to, self.frm)\n"
   ],
   "metadata": {
    "collapsed": false,
    "pycharm": {
     "name": "#%%\n"
    }
   }
  },
  {
   "cell_type": "code",
   "execution_count": 5,
   "outputs": [],
   "source": [
    "from socket import *\n",
    "\n",
    "import pickle\n",
    "import time\n",
    "from chat import ChatMsg\n",
    "import threading\n"
   ],
   "metadata": {
    "collapsed": false,
    "pycharm": {
     "name": "#%%\n"
    }
   }
  },
  {
   "cell_type": "code",
   "execution_count": 6,
   "outputs": [],
   "source": [
    "from socket import *\n",
    "import pickle\n",
    "import time\n",
    "import threading\n",
    "from chat import ChatMsg\n",
    "\n",
    "class SendThread(threading.Thread):\n",
    "    def __init__(self, soc):\n",
    "        threading.Thread.__init__(self)\n",
    "        self.soc = soc\n",
    "    def run(self):\n",
    "        while True:\n",
    "            sMsg = input('입력: ')\n",
    "            chatmsg = pickle.dumps(ChatMsg(sMsg))\n",
    "            self.soc.send(chatmsg)\n"
   ],
   "metadata": {
    "collapsed": false,
    "pycharm": {
     "name": "#%%\n"
    }
   }
  },
  {
   "cell_type": "code",
   "execution_count": 17,
   "outputs": [
    {
     "ename": "ConnectionRefusedError",
     "evalue": "[WinError 10061] 대상 컴퓨터에서 연결을 거부했으므로 연결하지 못했습니다",
     "output_type": "error",
     "traceback": [
      "\u001B[1;31m---------------------------------------------------------------------------\u001B[0m",
      "\u001B[1;31mConnectionRefusedError\u001B[0m                    Traceback (most recent call last)",
      "\u001B[1;32m~\\AppData\\Local\\Temp/ipykernel_7364/352887354.py\u001B[0m in \u001B[0;36m<module>\u001B[1;34m\u001B[0m\n\u001B[0;32m      1\u001B[0m \u001B[0mclientSock\u001B[0m \u001B[1;33m=\u001B[0m \u001B[0msocket\u001B[0m\u001B[1;33m(\u001B[0m\u001B[0mAF_INET\u001B[0m\u001B[1;33m,\u001B[0m \u001B[0mSOCK_STREAM\u001B[0m\u001B[1;33m)\u001B[0m  \u001B[1;31m# 소켓 생성\u001B[0m\u001B[1;33m\u001B[0m\u001B[1;33m\u001B[0m\u001B[0m\n\u001B[1;32m----> 2\u001B[1;33m \u001B[0mclientSock\u001B[0m\u001B[1;33m.\u001B[0m\u001B[0mconnect\u001B[0m\u001B[1;33m(\u001B[0m\u001B[1;33m(\u001B[0m\u001B[1;34m'127.0.0.1'\u001B[0m\u001B[1;33m,\u001B[0m \u001B[1;36m1123\u001B[0m\u001B[1;33m)\u001B[0m\u001B[1;33m)\u001B[0m    \u001B[1;31m# 서버에 접속\u001B[0m\u001B[1;33m\u001B[0m\u001B[1;33m\u001B[0m\u001B[0m\n\u001B[0m\u001B[0;32m      3\u001B[0m \u001B[1;33m\u001B[0m\u001B[0m\n\u001B[0;32m      4\u001B[0m \u001B[0mSendThread\u001B[0m\u001B[1;33m(\u001B[0m\u001B[0mclientSock\u001B[0m\u001B[1;33m)\u001B[0m\u001B[1;33m.\u001B[0m\u001B[0mstart\u001B[0m\u001B[1;33m(\u001B[0m\u001B[1;33m)\u001B[0m\u001B[1;33m\u001B[0m\u001B[1;33m\u001B[0m\u001B[0m\n\u001B[0;32m      5\u001B[0m \u001B[1;33m\u001B[0m\u001B[0m\n",
      "\u001B[1;31mConnectionRefusedError\u001B[0m: [WinError 10061] 대상 컴퓨터에서 연결을 거부했으므로 연결하지 못했습니다"
     ]
    }
   ],
   "source": [
    "clientSock = socket(AF_INET, SOCK_STREAM)  # 소켓 생성\n",
    "clientSock.connect(('127.0.0.1', 1123))    # 서버에 접속\n",
    "\n",
    "SendThread(clientSock).start()\n",
    "\n",
    "while True:\n",
    "    msg = clientSock.recv(1024)\n",
    "    print(pickle.loads(msg))\n",
    "\n",
    "print('클라이언트 종료...')"
   ],
   "metadata": {
    "collapsed": false,
    "pycharm": {
     "name": "#%%\n"
    }
   }
  },
  {
   "cell_type": "code",
   "execution_count": null,
   "outputs": [],
   "source": [
    "\n"
   ],
   "metadata": {
    "collapsed": false,
    "pycharm": {
     "name": "#%%\n"
    }
   }
  },
  {
   "cell_type": "code",
   "execution_count": null,
   "outputs": [],
   "source": [],
   "metadata": {
    "collapsed": false,
    "pycharm": {
     "name": "#%%\n"
    }
   }
  }
 ],
 "metadata": {
  "kernelspec": {
   "display_name": "Python 3",
   "language": "python",
   "name": "python3"
  },
  "language_info": {
   "codemirror_mode": {
    "name": "ipython",
    "version": 2
   },
   "file_extension": ".py",
   "mimetype": "text/x-python",
   "name": "python",
   "nbconvert_exporter": "python",
   "pygments_lexer": "ipython2",
   "version": "2.7.6"
  }
 },
 "nbformat": 4,
 "nbformat_minor": 0
}