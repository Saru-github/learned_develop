{
 "cells": [
  {
   "cell_type": "code",
   "execution_count": null,
   "metadata": {
    "collapsed": true,
    "pycharm": {
     "name": "#%%\n"
    }
   },
   "outputs": [],
   "source": [
    "# 서버에 접속, 데이터 송수신\n",
    "# 서버는 클라이언트 접속 대기 상태로 존재 해야함\n",
    "# 서버는 특정 클라이언트 간의 통신 중개 역할ㅠ"
   ]
  },
  {
   "cell_type": "markdown",
   "source": [],
   "metadata": {
    "collapsed": false,
    "pycharm": {
     "name": "#%% md\n"
    }
   }
  },
  {
   "cell_type": "code",
   "execution_count": 6,
   "outputs": [],
   "source": [
    "class ChatMsg:\n",
    "    def __init__(self, contents, to=None, frm = None, attach=None):\n",
    "        self.contents=contents\n",
    "        self.to=to\n",
    "        self.frm=frm\n",
    "        self.attach=attach\n",
    "    def __str__(self):\n",
    "        return \"contents={}, from={}, to={}, attach={}\".format(self.contents, self.to, self.frm)"
   ],
   "metadata": {
    "collapsed": false,
    "pycharm": {
     "name": "#%%\n"
    }
   }
  },
  {
   "cell_type": "code",
   "execution_count": null,
   "outputs": [],
   "source": [],
   "metadata": {
    "collapsed": false,
    "pycharm": {
     "name": "#%%\n"
    }
   }
  },
  {
   "cell_type": "code",
   "execution_count": 9,
   "outputs": [],
   "source": [
    "from socket import *\n",
    "import  pickle\n",
    "import  time\n",
    "from chat import ChatMsg"
   ],
   "metadata": {
    "collapsed": false,
    "pycharm": {
     "name": "#%%\n"
    }
   }
  },
  {
   "cell_type": "code",
   "execution_count": 11,
   "outputs": [
    {
     "name": "stdout",
     "output_type": "stream",
     "text": [
      "서버에 접속됨\n",
      "클라이언트 종료\n"
     ]
    }
   ],
   "source": [
    "clientSock=socket(AF_INET, SOCK_STREAM) #소켓 생성\n",
    "clientSock.connect(('192.168.0.178', 1122)) #서버에 접속\n",
    "\n",
    "msg=clientSock.recv(1024) #서버 데이터 수신 대기\n",
    "print(pickle.loads(msg).contents) #서버로부터 수신된 데이터를 화면에 표시\n",
    "chatmsg=ChatMsg('하이욤')\n",
    "clientSock.send(pickle.dumps(chatmsg))\n",
    "time.sleep(1)\n",
    "print('클라이언트 종료')"
   ],
   "metadata": {
    "collapsed": false,
    "pycharm": {
     "name": "#%%\n"
    }
   }
  },
  {
   "cell_type": "code",
   "execution_count": null,
   "outputs": [],
   "source": [],
   "metadata": {
    "collapsed": false,
    "pycharm": {
     "name": "#%%\n"
    }
   }
  },
  {
   "cell_type": "code",
   "execution_count": null,
   "outputs": [],
   "source": [],
   "metadata": {
    "collapsed": false,
    "pycharm": {
     "name": "#%%\n"
    }
   }
  }
 ],
 "metadata": {
  "kernelspec": {
   "display_name": "Python 3",
   "language": "python",
   "name": "python3"
  },
  "language_info": {
   "codemirror_mode": {
    "name": "ipython",
    "version": 2
   },
   "file_extension": ".py",
   "mimetype": "text/x-python",
   "name": "python",
   "nbconvert_exporter": "python",
   "pygments_lexer": "ipython2",
   "version": "2.7.6"
  }
 },
 "nbformat": 4,
 "nbformat_minor": 0
}