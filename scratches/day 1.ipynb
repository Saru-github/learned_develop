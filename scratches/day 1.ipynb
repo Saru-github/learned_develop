{
 "cells": [
  {
   "cell_type": "code",
   "execution_count": 1,
   "metadata": {
    "collapsed": true,
    "pycharm": {
     "name": "#%%\n"
    }
   },
   "outputs": [
    {
     "data": {
      "text/plain": "[1, 2, 3, 4, 4, 5]"
     },
     "execution_count": 1,
     "metadata": {},
     "output_type": "execute_result"
    }
   ],
   "source": [
    "nums = [1,2,3,4,4,5]\n",
    "nums"
   ]
  },
  {
   "cell_type": "code",
   "execution_count": 2,
   "outputs": [
    {
     "data": {
      "text/plain": "{1, 2, 3, 4, 5}"
     },
     "execution_count": 2,
     "metadata": {},
     "output_type": "execute_result"
    }
   ],
   "source": [
    "set(nums)"
   ],
   "metadata": {
    "collapsed": false,
    "pycharm": {
     "name": "#%%\n"
    }
   }
  },
  {
   "cell_type": "code",
   "execution_count": 3,
   "outputs": [
    {
     "data": {
      "text/plain": "(6, 5)"
     },
     "execution_count": 3,
     "metadata": {},
     "output_type": "execute_result"
    }
   ],
   "source": [
    "len(nums),len(set(nums))"
   ],
   "metadata": {
    "collapsed": false,
    "pycharm": {
     "name": "#%%\n"
    }
   }
  },
  {
   "cell_type": "code",
   "execution_count": 4,
   "outputs": [
    {
     "name": "stdout",
     "output_type": "stream",
     "text": [
      "데이터 중복 발견\n"
     ]
    }
   ],
   "source": [
    "if len(nums)!=len(set(nums)):\n",
    "    print('데이터 중복 발견')\n",
    "else:\n",
    "    print('데이터 중복 없음')"
   ],
   "metadata": {
    "collapsed": false,
    "pycharm": {
     "name": "#%%\n"
    }
   }
  },
  {
   "cell_type": "code",
   "execution_count": 5,
   "outputs": [],
   "source": [
    "emps = []"
   ],
   "metadata": {
    "collapsed": false,
    "pycharm": {
     "name": "#%%\n"
    }
   }
  },
  {
   "cell_type": "code",
   "execution_count": 7,
   "outputs": [],
   "source": [
    "# 목록보기 기능 -> emp_list()\n",
    "\n",
    "def emp_list():\n",
    "    for emp in emps:\n",
    "        print(f\"{emp['num']}\\t{emp['name']}\\t{emp['phone']}\")"
   ],
   "metadata": {
    "collapsed": false,
    "pycharm": {
     "name": "#%%\n"
    }
   }
  },
  {
   "cell_type": "code",
   "execution_count": 8,
   "outputs": [],
   "source": [
    "# 수정기능 : (num, phone)을 받아서 목록을 수정하고 성공시 True,\n",
    "# 실패시 False 리턴\n",
    "# - update_emp(tuple)\n",
    "\n",
    "def update_emp(new_phone):\n",
    "    num, phone = new_phone\n",
    "    updated = False\n",
    "    for emp in emps:\n",
    "        if emp['num']==num:\n",
    "            emp['phone'] = phone\n",
    "            updated = True\n",
    "    return updated # 함수안에 리턴은 한번만 쓰는게 좋다"
   ],
   "metadata": {
    "collapsed": false,
    "pycharm": {
     "name": "#%%\n"
    }
   }
  },
  {
   "cell_type": "code",
   "execution_count": 9,
   "outputs": [],
   "source": [
    "# 삭제기능 : 사원번호를 받아서 해당 사원정보를 삭제하고 True, 실패시 False 리턴\n",
    "# - delete_emp(num):\n",
    "\n",
    "def delete_emp(num):\n",
    "    deleted = False\n",
    "    for emp in emps:\n",
    "        if emp['num']==num:\n",
    "            emps.remove(emp)\n",
    "            deleted = True\n",
    "    return deleted"
   ],
   "metadata": {
    "collapsed": false,
    "pycharm": {
     "name": "#%%\n"
    }
   }
  },
  {
   "cell_type": "code",
   "execution_count": 10,
   "outputs": [],
   "source": [
    "# 검색기능 : 이름을 파라미터로 받아서 해당 사원의 정보를 검색하고 리턴한다\n",
    "# - 검색결과가 없는 경우에는 None을 리턴\n",
    "# - find_emp(name):\n",
    "\n",
    "def find_emp(name):\n",
    "    for emp in emps:\n",
    "        if emp['name']==name:\n",
    "            return emp\n",
    "    return None"
   ],
   "metadata": {
    "collapsed": false,
    "pycharm": {
     "name": "#%%\n"
    }
   }
  },
  {
   "cell_type": "code",
   "execution_count": 12,
   "outputs": [],
   "source": [
    "# 중복인지 아닌지를 검사해서 그 결과를 리턴하는 함수 작성\n",
    "# is_duplicate True: 중복됨, False: 중복아님\n",
    "\n",
    "def is_duplicate(num):\n",
    "    nums = [emp['num'] for emp in emps]\n",
    "    nums.append(num)\n",
    "    if len(nums) != len(set(nums)):\n",
    "        return True\n",
    "    else:\n",
    "        return False"
   ],
   "metadata": {
    "collapsed": false,
    "pycharm": {
     "name": "#%%\n"
    }
   }
  },
  {
   "cell_type": "code",
   "execution_count": 13,
   "outputs": [
    {
     "name": "stdout",
     "output_type": "stream",
     "text": [
      "-----------------------------------------------------------\n",
      "---------------------------------------------------------\n",
      "\n",
      "프로그램 종료\n"
     ]
    }
   ],
   "source": [
    "while True:\n",
    "    print(\"-----------------------------------------------------------\")\n",
    "    menu = input(\"추가(a), 목록(s), 검색(f), 수정(u), 삭제(d), 종료(x): \")\n",
    "    print(\"---------------------------------------------------------\\n\")\n",
    "\n",
    "    if menu.upper() == 'A':\n",
    "        num,name,phone = input(\"사원 번호 이름 전화: \").split()\n",
    "        if is_duplicate(num):\n",
    "            print('사원정보 중복, 다시 입력해주세요')\n",
    "            continue\n",
    "        emps.append({'num':num, 'name':name, 'phone':phone})\n",
    "        print(\"사원정보 저장 성공\")\n",
    "\n",
    "    elif menu.upper()=='S':\n",
    "        emp_list()\n",
    "\n",
    "    elif menu.upper()=='F':\n",
    "        ename = input(\"검색할 사원이름: \")\n",
    "        emp = find_emp(ename)\n",
    "        if emp:\n",
    "            print(f\"{emp['num']}\\t{emp['name']}\\t{emp['phone']}\")\n",
    "        else:\n",
    "            print(\"해당 이름의 사원정보는 없음\")\n",
    "\n",
    "    elif menu.upper()=='U':\n",
    "        num,phone = input(\"수정할 사원번호 및 전화번호: \").split()\n",
    "        if update_emp((num,phone)):\n",
    "            print(\"수정성공\")\n",
    "        else:\n",
    "            print(\"수정실패\")\n",
    "\n",
    "    elif menu.upper()=='D':\n",
    "        num=input(\"삭제할 회원번호: \").strip()\n",
    "        if delete_emp(num):\n",
    "            print('삭제 성공')\n",
    "        else:\n",
    "            print('삭제 실패')\n",
    "\n",
    "    elif menu.upper() == 'X':\n",
    "        print('프로그램 종료')\n",
    "        break\n",
    "    else:\n",
    "        print('======== 메뉴 입력오류 ========')"
   ],
   "metadata": {
    "collapsed": false,
    "pycharm": {
     "name": "#%%\n"
    }
   }
  },
  {
   "cell_type": "code",
   "execution_count": null,
   "outputs": [],
   "source": [
    "\n",
    "# import 종류 3가지"
   ],
   "metadata": {
    "collapsed": false,
    "pycharm": {
     "name": "#%%\n"
    }
   }
  },
  {
   "cell_type": "code",
   "execution_count": null,
   "outputs": [],
   "source": [
    "\n",
    "import pizza"
   ],
   "metadata": {
    "collapsed": false,
    "pycharm": {
     "name": "#%%\n"
    }
   }
  },
  {
   "cell_type": "code",
   "execution_count": null,
   "outputs": [],
   "source": [
    "pizza.make_pizza(16, 'pepperoni')\n",
    "pizza.make_pizza(12, 'mushrooms', 'green peppers', 'extra cheese')"
   ],
   "metadata": {
    "collapsed": false,
    "pycharm": {
     "name": "#%%\n"
    }
   }
  },
  {
   "cell_type": "code",
   "execution_count": null,
   "outputs": [],
   "source": [
    "\n",
    "pizza.add(3,5)"
   ],
   "metadata": {
    "collapsed": false,
    "pycharm": {
     "name": "#%%\n"
    }
   }
  },
  {
   "cell_type": "code",
   "execution_count": null,
   "outputs": [],
   "source": [
    "from pizza import add\n",
    "add(3,5)"
   ],
   "metadata": {
    "collapsed": false,
    "pycharm": {
     "name": "#%%\n"
    }
   }
  },
  {
   "cell_type": "code",
   "execution_count": null,
   "outputs": [],
   "source": [
    "import pizza as p\n",
    "p.add(3,5)"
   ],
   "metadata": {
    "collapsed": false,
    "pycharm": {
     "name": "#%%\n"
    }
   }
  },
  {
   "cell_type": "code",
   "execution_count": null,
   "outputs": [],
   "source": [
    "import mymodule as mm"
   ],
   "metadata": {
    "collapsed": false,
    "pycharm": {
     "name": "#%%\n"
    }
   }
  },
  {
   "cell_type": "code",
   "execution_count": null,
   "outputs": [],
   "source": [
    "mm.show('Smith', 'Ward', 'King')"
   ],
   "metadata": {
    "collapsed": false,
    "pycharm": {
     "name": "#%%\n"
    }
   }
  },
  {
   "cell_type": "code",
   "execution_count": null,
   "outputs": [],
   "source": [
    "from mymodule import show as s\n",
    "s('Smith', 'Ward', 'King')"
   ],
   "metadata": {
    "collapsed": false,
    "pycharm": {
     "name": "#%%\n"
    }
   }
  },
  {
   "cell_type": "code",
   "execution_count": null,
   "outputs": [],
   "source": [
    "from pizza import *\n",
    "test()\n",
    "add(3,5)"
   ],
   "metadata": {
    "collapsed": false,
    "pycharm": {
     "name": "#%%\n"
    }
   }
  },
  {
   "cell_type": "code",
   "execution_count": null,
   "outputs": [],
   "source": [
    "class Emp:\n",
    "\n",
    "    def __init__(self, num, name, phone):\n",
    "        self.num = num\n",
    "        self.name = name\n",
    "        self.phone = phone\n",
    "\n",
    "    def __str__(self):\n",
    "        return(f\"{self.num}\\t{self.name}\\t{self.phone}\")\n",
    "\n",
    "    def __eq__(self, other):\n",
    "        return self.num==other.num"
   ],
   "metadata": {
    "collapsed": false,
    "pycharm": {
     "name": "#%%\n"
    }
   }
  },
  {
   "cell_type": "code",
   "execution_count": null,
   "outputs": [],
   "source": [
    "e1 = Emp(11, 'Smith', '010-3547-6510')\n",
    "print(e1)"
   ],
   "metadata": {
    "collapsed": false,
    "pycharm": {
     "name": "#%%\n"
    }
   }
  },
  {
   "cell_type": "code",
   "execution_count": null,
   "outputs": [],
   "source": [
    "e2 = Emp(12, 'Blake', '010-3271-1290')\n",
    "print(e2)"
   ],
   "metadata": {
    "collapsed": false,
    "pycharm": {
     "name": "#%%\n"
    }
   }
  },
  {
   "cell_type": "code",
   "execution_count": null,
   "outputs": [],
   "source": [
    "e1.__eq__(e2)"
   ],
   "metadata": {
    "collapsed": false,
    "pycharm": {
     "name": "#%%\n"
    }
   }
  },
  {
   "cell_type": "code",
   "execution_count": null,
   "outputs": [],
   "source": [
    "\n",
    "e3 = Emp(12, '', '')\n",
    "\n",
    "e2.__eq__(e3)"
   ],
   "metadata": {
    "collapsed": false,
    "pycharm": {
     "name": "#%%\n"
    }
   }
  },
  {
   "cell_type": "code",
   "execution_count": null,
   "outputs": [],
   "source": [
    "\n",
    "e2==e3"
   ],
   "metadata": {
    "collapsed": false,
    "pycharm": {
     "name": "#%%\n"
    }
   }
  },
  {
   "cell_type": "code",
   "execution_count": null,
   "outputs": [],
   "source": [
    "e1==e2"
   ],
   "metadata": {
    "collapsed": false,
    "pycharm": {
     "name": "#%%\n"
    }
   }
  },
  {
   "cell_type": "code",
   "execution_count": null,
   "outputs": [],
   "source": [
    "emp_list = [e1, e2]\n",
    "for e in emp_list:\n",
    "    print(e)"
   ],
   "metadata": {
    "collapsed": false,
    "pycharm": {
     "name": "#%%\n"
    }
   }
  }
 ],
 "metadata": {
  "kernelspec": {
   "display_name": "Python 3",
   "language": "python",
   "name": "python3"
  },
  "language_info": {
   "codemirror_mode": {
    "name": "ipython",
    "version": 2
   },
   "file_extension": ".py",
   "mimetype": "text/x-python",
   "name": "python",
   "nbconvert_exporter": "python",
   "pygments_lexer": "ipython2",
   "version": "2.7.6"
  }
 },
 "nbformat": 4,
 "nbformat_minor": 0
}