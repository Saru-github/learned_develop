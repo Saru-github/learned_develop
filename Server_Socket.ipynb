{
 "cells": [
  {
   "cell_type": "code",
   "execution_count": 1,
   "outputs": [],
   "source": [
    "from socket import *\n",
    "import time\n",
    "import pickle\n",
    "import threading\n",
    "from chat import ChatMsg"
   ],
   "metadata": {
    "collapsed": false,
    "pycharm": {
     "name": "#%%\n"
    }
   }
  },
  {
   "cell_type": "code",
   "execution_count": 2,
   "outputs": [],
   "source": [
    "class ChatThread(threading.Thread):\n",
    "\n",
    "    def __init__(self, soc, addr, soc_list):\n",
    "        threading.Thread.__init__(self)\n",
    "        print('ChatThread 시작됨')\n",
    "        self.soc = soc\n",
    "        self.addr = addr\n",
    "        self.soc_list = soc_list\n",
    "\n",
    "\n",
    "    def run(self):\n",
    "        msg = ChatMsg('서버 접속 성공')\n",
    "        self.soc.send(pickle.dumps(msg))\n",
    "        while True:\n",
    "            try:\n",
    "                msg = self.soc.recv(1024)\n",
    "                for s in self.soc_list:\n",
    "                    if s==self.soc:\n",
    "                        continue\n",
    "                    s.send(msg)\n",
    "            except:\n",
    "                print(str(self.addr)+' 퇴장')\n",
    "                for s in self.soc_list:\n",
    "                    if s is self.soc:\n",
    "                        continue\n",
    "                    s.send(pickle.dumps(ChatMsg(str(self.addr)+'님 퇴장')))\n",
    "                break\n"
   ],
   "metadata": {
    "collapsed": false,
    "pycharm": {
     "name": "#%%\n"
    }
   }
  },
  {
   "cell_type": "code",
   "execution_count": null,
   "outputs": [
    {
     "name": "stdout",
     "output_type": "stream",
     "text": [
      "서버 대기 중...\n",
      "ChatThread 시작됨\n",
      "서버 대기 중...\n",
      "ChatThread 시작됨\n",
      "서버 대기 중...\n"
     ]
    }
   ],
   "source": [
    "serverSock = socket(AF_INET, SOCK_STREAM)\n",
    "serverSock.bind(('',1124))\n",
    "serverSock.listen(1)\n",
    "\n",
    "soc_list=[]\n",
    "\n",
    "\n",
    "while True:\n",
    "    print('서버 대기 중...')\n",
    "    soc, addr = serverSock.accept()\n",
    "    soc_list.append(soc)\n",
    "    ChatThread(soc, addr,soc_list).start()\n",
    "\n",
    "print('서버 종료...')"
   ],
   "metadata": {
    "collapsed": false,
    "pycharm": {
     "name": "#%%\n",
     "is_executing": true
    }
   }
  }
 ],
 "metadata": {
  "kernelspec": {
   "display_name": "Python 3",
   "language": "python",
   "name": "python3"
  },
  "language_info": {
   "codemirror_mode": {
    "name": "ipython",
    "version": 2
   },
   "file_extension": ".py",
   "mimetype": "text/x-python",
   "name": "python",
   "nbconvert_exporter": "python",
   "pygments_lexer": "ipython2",
   "version": "2.7.6"
  }
 },
 "nbformat": 4,
 "nbformat_minor": 0
}