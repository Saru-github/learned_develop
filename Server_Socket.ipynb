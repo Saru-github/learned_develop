{
 "cells": [
  {
   "cell_type": "code",
   "execution_count": 1,
   "outputs": [],
   "source": [
    "from socket import *\n",
    "import time\n",
    "import pickle\n",
    "import threading\n",
    "from chat import ChatMsg"
   ],
   "metadata": {
    "collapsed": false,
    "pycharm": {
     "name": "#%%\n"
    }
   }
  },
  {
   "cell_type": "code",
   "execution_count": 2,
   "outputs": [],
   "source": [
    "from socket import *\n",
    "import threading\n",
    "import time\n",
    "import pickle\n",
    "from chat import ChatMsg\n",
    "\n",
    "class ChatThread(threading.Thread):\n",
    "\n",
    "    def __init__(self, soc, addr, soc_list):\n",
    "        threading.Thread.__init__(self)\n",
    "        print('ChatThread 시작됨')\n",
    "        self.soc = soc\n",
    "        self.addr = addr\n",
    "        self.soc_list = soc_list\n",
    "\n",
    "    def run(self):\n",
    "        msg = ChatMsg('서버 접속 성공')\n",
    "        self.soc.send(pickle.dumps(msg))\n",
    "        rem_idx = -1\n",
    "        while True:\n",
    "            try:\n",
    "                msg = self.soc.recv(1024)\n",
    "                chatmsg = pickle.loads(msg)\n",
    "                if chatmsg.to:\n",
    "                    soc_dict[chatmsg.to].send(msg)\n",
    "                else:\n",
    "                    for i,s in self.soc_dict.items():\n",
    "                        if s is self.soc:\n",
    "                            rem_idx = i\n",
    "                            continue\n",
    "                    #                 for s in self.soc_list:\n",
    "                    #                     if s == self.soc:\n",
    "                    #                         continue\n",
    "                    self.s.send(msg)\n",
    "            except:\n",
    "                print(str(self.addr)+' 퇴장')\n",
    "                #                 for s in self.soc_list:\n",
    "                #                     if s is self.soc:\n",
    "                #                         continue\n",
    "                del self.soc_dict[rem_idx]\n",
    "                for i,s in self.soc_dict.items():\n",
    "                    s.send(pickle.dumps(ChatMsg(str(self.addr)+'님 퇴장')))\n",
    "                break\n",
    "        print('ChatThread 종료')\n"
   ],
   "metadata": {
    "collapsed": false,
    "pycharm": {
     "name": "#%%\n"
    }
   }
  },
  {
   "cell_type": "code",
   "execution_count": null,
   "outputs": [
    {
     "name": "stdout",
     "output_type": "stream",
     "text": [
      "서버 대기 중...\n"
     ]
    }
   ],
   "source": [
    "serverSock = socket(AF_INET, SOCK_STREAM)\n",
    "serverSock.bind(('', 1127))\n",
    "serverSock.listen(1)\n",
    "\n",
    "soc_dict = {}\n",
    "num = 0\n",
    "\n",
    "while True:\n",
    "    print('서버 대기 중...')\n",
    "    soc, addr = serverSock.accept()   # 클라이언트 접속시까지 대기함\n",
    "    #     soc_list.append(soc)\n",
    "    num += 1\n",
    "    soc_dict[num] = soc\n",
    "    ChatThread(soc, addr, soc_dict).start()\n",
    "\n",
    "print('서버 종료...')"
   ],
   "metadata": {
    "collapsed": false,
    "pycharm": {
     "name": "#%%\n",
     "is_executing": true
    }
   }
  },
  {
   "cell_type": "code",
   "execution_count": null,
   "outputs": [],
   "source": [],
   "metadata": {
    "collapsed": false,
    "pycharm": {
     "name": "#%%\n"
    }
   }
  }
 ],
 "metadata": {
  "kernelspec": {
   "display_name": "Python 3",
   "language": "python",
   "name": "python3"
  },
  "language_info": {
   "codemirror_mode": {
    "name": "ipython",
    "version": 2
   },
   "file_extension": ".py",
   "mimetype": "text/x-python",
   "name": "python",
   "nbconvert_exporter": "python",
   "pygments_lexer": "ipython2",
   "version": "2.7.6"
  }
 },
 "nbformat": 4,
 "nbformat_minor": 0
}