{
 "cells": [
  {
   "cell_type": "code",
   "execution_count": 4,
   "outputs": [],
   "source": [
    "from socket import *\n",
    "import pickle\n",
    "import time\n",
    "from chat import ChatMsg"
   ],
   "metadata": {
    "collapsed": false,
    "pycharm": {
     "name": "#%%\n"
    }
   }
  },
  {
   "cell_type": "code",
   "execution_count": 6,
   "outputs": [
    {
     "name": "stdout",
     "output_type": "stream",
     "text": [
      "서버 대기중\n",
      "('192.168.0.178', 59989) 에서 접속됨\n",
      "contents=하이욤, from=None, to=None\n",
      "서버종료\n"
     ]
    }
   ],
   "source": [
    "serverSock = socket(AF_INET, SOCK_STREAM)\n",
    "serverSock.bind(('', 1122))\n",
    "serverSock.listen(1)\n",
    "\n",
    "while True:\n",
    "    print('서버 대기중')\n",
    "    com_soc, addr = serverSock.accept()  #클라이언트 접속시까지 대기함\n",
    "    ChatThread(soc, addr).start()\n",
    "\n",
    "\n",
    "print('서버종료.......')"
   ],
   "metadata": {
    "collapsed": false,
    "pycharm": {
     "name": "#%%\n"
    }
   }
  },
  {
   "cell_type": "code",
   "execution_count": null,
   "outputs": [],
   "source": [],
   "metadata": {
    "collapsed": false,
    "pycharm": {
     "name": "#%%\n"
    }
   }
  }
 ],
 "metadata": {
  "kernelspec": {
   "display_name": "Python 3",
   "language": "python",
   "name": "python3"
  },
  "language_info": {
   "codemirror_mode": {
    "name": "ipython",
    "version": 2
   },
   "file_extension": ".py",
   "mimetype": "text/x-python",
   "name": "python",
   "nbconvert_exporter": "python",
   "pygments_lexer": "ipython2",
   "version": "2.7.6"
  }
 },
 "nbformat": 4,
 "nbformat_minor": 0
}