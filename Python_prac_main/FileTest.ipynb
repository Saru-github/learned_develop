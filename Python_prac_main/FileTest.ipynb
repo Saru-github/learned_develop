{
 "cells": [
  {
   "cell_type": "markdown",
   "id": "e7e1778a",
   "metadata": {
    "pycharm": {
     "name": "#%% md\n"
    }
   },
   "source": [
    "# 파일 다루기\n",
    "\n",
    "* 파일 열기 : open()\n",
    "* CRUD      : read, write, readlines\n",
    "* 파일 닫기 : close()\n"
   ]
  },
  {
   "cell_type": "code",
   "execution_count": 3,
   "id": "082d2ab6",
   "metadata": {
    "scrolled": true,
    "pycharm": {
     "name": "#%%\n"
    }
   },
   "outputs": [],
   "source": [
    "fobj = open('Emp.py', 'r')\n",
    "type(fobj)  # _ip.TextIOWraaper\n",
    "dir(fobj)   # Iterator, __next__() 반복문에 적용 가능\n",
    "fobj.close()"
   ]
  },
  {
   "cell_type": "code",
   "execution_count": 4,
   "id": "5e8ae1f5",
   "metadata": {
    "pycharm": {
     "name": "#%%\n"
    }
   },
   "outputs": [
    {
     "name": "stdout",
     "output_type": "stream",
     "text": [
      "#!/usr/bin/env python\n",
      "# coding: utf-8\n",
      "\n",
      "# In[ ]:\n",
      "\n",
      "\n",
      "class Emp:\n",
      "\n",
      "    def __init__(self, num, name=None, phone=None):\n",
      "        self.num = num\n",
      "        self.name = name\n",
      "        self.phone = phone\n",
      "\n",
      "    def __str__(self):\n",
      "        return(f\"{self.num}\\t{self.name}\\t{self.phone}\")\n",
      "\n",
      "    def __eq__(self, other):\n",
      "        return self.num == other.num\n",
      "\n"
     ]
    }
   ],
   "source": [
    "fobj = open('emp.py', 'r')\n",
    "for data in fobj:\n",
    "    print(data, end='') #print 라는 메소드는 디폴트 값으로 줄을 바꾸라고 되어있음. \\n = 개행, '' 공백 으로 변경\n",
    "     #print(data.rstrip()) 도 가능\n",
    "fobj.close()"
   ]
  },
  {
   "cell_type": "code",
   "execution_count": 5,
   "id": "6b14d27e",
   "metadata": {
    "pycharm": {
     "name": "#%%\n"
    }
   },
   "outputs": [
    {
     "data": {
      "text/plain": "<list_iterator at 0x1df27e8dee0>"
     },
     "execution_count": 5,
     "metadata": {},
     "output_type": "execute_result"
    }
   ],
   "source": [
    "from collections.abc import Iterable, Iterator\n",
    "\n",
    "nums = [1,2,3]\n",
    "dir(nums)\n",
    "\n",
    "isinstance(nums, Iterable) #True, __getitem__()\n",
    "\n",
    "nums.__iter__()"
   ]
  },
  {
   "cell_type": "code",
   "execution_count": 6,
   "id": "6c2b7a81",
   "metadata": {
    "pycharm": {
     "name": "#%%\n"
    }
   },
   "outputs": [
    {
     "data": {
      "text/plain": "1"
     },
     "execution_count": 6,
     "metadata": {},
     "output_type": "execute_result"
    }
   ],
   "source": [
    "nums.__getitem__(0)\n",
    "nums[0]"
   ]
  },
  {
   "cell_type": "code",
   "execution_count": 7,
   "id": "6833859c",
   "metadata": {
    "pycharm": {
     "name": "#%%\n"
    }
   },
   "outputs": [
    {
     "data": {
      "text/plain": "True"
     },
     "execution_count": 7,
     "metadata": {},
     "output_type": "execute_result"
    }
   ],
   "source": [
    "itr = nums.__iter__()\n",
    "\n",
    "isinstance(itr, Iterator)   #Trur"
   ]
  },
  {
   "cell_type": "code",
   "execution_count": 8,
   "id": "57fdf2d0",
   "metadata": {
    "pycharm": {
     "name": "#%%\n"
    }
   },
   "outputs": [
    {
     "data": {
      "text/plain": "<list_iterator at 0x1df27ef1760>"
     },
     "execution_count": 8,
     "metadata": {},
     "output_type": "execute_result"
    }
   ],
   "source": [
    "# nums.__iter__()\n",
    "iter(nums)"
   ]
  },
  {
   "cell_type": "code",
   "execution_count": 9,
   "id": "71832bcd",
   "metadata": {
    "pycharm": {
     "name": "#%%\n"
    }
   },
   "outputs": [
    {
     "data": {
      "text/plain": "True"
     },
     "execution_count": 9,
     "metadata": {},
     "output_type": "execute_result"
    }
   ],
   "source": [
    "isinstance(fobj, Iterable) #True\n",
    "isinstance(fobj, Iterator) #True"
   ]
  },
  {
   "cell_type": "code",
   "execution_count": 10,
   "id": "3dc3a113",
   "metadata": {
    "pycharm": {
     "name": "#%%\n"
    }
   },
   "outputs": [
    {
     "data": {
      "text/plain": "str"
     },
     "execution_count": 10,
     "metadata": {},
     "output_type": "execute_result"
    }
   ],
   "source": [
    "fobj = open('emp.py', 'r')\n",
    "fdata = fobj.read()\n",
    "#print(fdata)\n",
    "type(fdata)    #str 한개의 문자열로 오기 때문에 화면 출력에 특화"
   ]
  },
  {
   "cell_type": "code",
   "execution_count": 11,
   "id": "a689183a",
   "metadata": {
    "scrolled": true,
    "pycharm": {
     "name": "#%%\n"
    }
   },
   "outputs": [
    {
     "name": "stdout",
     "output_type": "stream",
     "text": [
      "#!/usr/bin/env python\n",
      "# coding: utf-8\n",
      "\n",
      "# In[ ]:\n",
      "\n",
      "\n",
      "class Emp:\n",
      "\n",
      "    def __init__(self, num, name=None, phone=None):\n",
      "        self.num = num\n",
      "        self.name = name\n",
      "        self.phone = phone\n",
      "\n",
      "    def __str__(self):\n",
      "        return(f\"{self.num}\\t{self.name}\\t{self.phone}\")\n",
      "\n",
      "    def __eq__(self, other):\n",
      "        return self.num == other.num\n",
      "\n"
     ]
    }
   ],
   "source": [
    "fobj = open('emp.py', 'r')\n",
    "datalist = fobj.readlines()\n",
    "type(datalist)    #list  한행한행 분석할때 쓰기 좋음.\n",
    "\n",
    "\n",
    "for line in datalist:\n",
    "    print(line.rstrip())\n",
    "    \n",
    "fobj.close()"
   ]
  },
  {
   "cell_type": "code",
   "execution_count": 12,
   "id": "75d0e101",
   "metadata": {
    "pycharm": {
     "name": "#%%\n"
    }
   },
   "outputs": [
    {
     "name": "stdout",
     "output_type": "stream",
     "text": [
      "#!/usr/bin/env python\n",
      "# coding: utf-8\n",
      "\n",
      "# In[ ]:\n",
      "\n",
      "\n",
      "class Emp:\n",
      "\n",
      "    def __init__(self, num, name=None, phone=None):\n",
      "        self.num = num\n",
      "        self.name = name\n",
      "        self.phone = phone\n"
     ]
    }
   ],
   "source": [
    "fobj = open('emp.py', 'r')\n",
    "#print(fobj.__next__())\n",
    "print(next(fobj).rstrip())\n",
    "print(next(fobj).rstrip())\n",
    "print(next(fobj).rstrip())\n",
    "print(next(fobj).rstrip())\n",
    "print(next(fobj).rstrip())\n",
    "print(next(fobj).rstrip())\n",
    "print(next(fobj).rstrip())\n",
    "print(next(fobj).rstrip())\n",
    "print(next(fobj).rstrip())\n",
    "print(next(fobj).rstrip())\n",
    "print(next(fobj).rstrip())\n",
    "print(next(fobj).rstrip())\n",
    "fobj.close()"
   ]
  },
  {
   "cell_type": "code",
   "execution_count": 13,
   "id": "494c2228",
   "metadata": {
    "pycharm": {
     "name": "#%%\n"
    }
   },
   "outputs": [
    {
     "name": "stdout",
     "output_type": "stream",
     "text": [
      "#!/usr/bin/env python\n",
      "# coding: utf-8\n",
      "\n",
      "# In[ ]:\n",
      "\n",
      "\n",
      "class Emp:\n",
      "\n",
      "    def __init__(self, num, name=None, phone=None):\n",
      "        self.num = num\n",
      "        self.name = name\n",
      "        self.phone = phone\n",
      "\n",
      "    def __str__(self):\n",
      "        return(f\"{self.num}\\t{self.name}\\t{self.phone}\")\n",
      "\n",
      "    def __eq__(self, other):\n",
      "        return self.num == other.num\n",
      "\n"
     ]
    }
   ],
   "source": [
    "with open('emp.py', 'r') as fobj:\n",
    "    for line in fobj:\n",
    "        print(line.rstrip())  # 자동으로 닫아줌."
   ]
  },
  {
   "cell_type": "code",
   "execution_count": 82,
   "outputs": [
    {
     "name": "stdout",
     "output_type": "stream",
     "text": [
      "16 Sandy 010-3213-7654\n"
     ]
    }
   ],
   "source": [
    "with open('emps.txt','a')as fobj:\n",
    "    tup=input('번호, 이름, 전화를 입력 해 주세요')\n",
    "    fobj.write('\\n%s'%tup)\n",
    "    print(tup)"
   ],
   "metadata": {
    "collapsed": false,
    "pycharm": {
     "name": "#%%\n"
    }
   }
  },
  {
   "cell_type": "code",
   "execution_count": 83,
   "outputs": [],
   "source": [
    "def show_list(emps):\n",
    "    for emp in emps:\n",
    "        print(emp)"
   ],
   "metadata": {
    "collapsed": false,
    "pycharm": {
     "name": "#%%\n"
    }
   }
  },
  {
   "cell_type": "code",
   "execution_count": 93,
   "id": "85f951fc",
   "metadata": {
    "pycharm": {
     "name": "#%%\n"
    }
   },
   "outputs": [],
   "source": [
    "# 목록을 받아서 화면에 표시한다.\n",
    "\n",
    "from emp import Emp\n",
    "\n",
    "def load_emps():\n",
    "    emps=[]\n",
    "    with open('emps.txt','r') as fobj:\n",
    "        for line in fobj:\n",
    "            num,name,phone = line.strip().split()\n",
    "            emps.append(Emp(num,name, phone))\n",
    "    return emps"
   ]
  },
  {
   "cell_type": "code",
   "execution_count": null,
   "outputs": [],
   "source": [
    "# 파일에 한 행 추가\n",
    "# open"
   ],
   "metadata": {
    "collapsed": false,
    "pycharm": {
     "name": "#%%\n"
    }
   }
  },
  {
   "cell_type": "code",
   "execution_count": 95,
   "id": "d8a3a5a3",
   "metadata": {
    "pycharm": {
     "name": "#%%\n"
    }
   },
   "outputs": [],
   "source": [
    "def save_emp(emp):\n",
    "    line = \"{} {} {}\".format(emp.num,emp.name, emp.phone)\n",
    "    with open('emps.txt', 'a') as fobj:\n",
    "        fobj.write(line+'\\n')"
   ]
  },
  {
   "cell_type": "code",
   "execution_count": 100,
   "outputs": [
    {
     "ename": "ValueError",
     "evalue": "not enough values to unpack (expected 3, got 0)",
     "output_type": "error",
     "traceback": [
      "\u001B[1;31m---------------------------------------------------------------------------\u001B[0m",
      "\u001B[1;31mValueError\u001B[0m                                Traceback (most recent call last)",
      "\u001B[1;32m~\\AppData\\Local\\Temp/ipykernel_12456/2948133269.py\u001B[0m in \u001B[0;36m<module>\u001B[1;34m\u001B[0m\n\u001B[0;32m      2\u001B[0m \u001B[1;31m# 목록보기 기능을 실행하면 추가된 정보가 표시되어야 함\u001B[0m\u001B[1;33m\u001B[0m\u001B[1;33m\u001B[0m\u001B[0m\n\u001B[0;32m      3\u001B[0m \u001B[1;33m\u001B[0m\u001B[0m\n\u001B[1;32m----> 4\u001B[1;33m \u001B[0mnum\u001B[0m\u001B[1;33m,\u001B[0m\u001B[0mname\u001B[0m\u001B[1;33m,\u001B[0m\u001B[0mphone\u001B[0m \u001B[1;33m=\u001B[0m \u001B[0minput\u001B[0m\u001B[1;33m(\u001B[0m\u001B[1;34m'번호 이름 전화: '\u001B[0m\u001B[1;33m)\u001B[0m\u001B[1;33m.\u001B[0m\u001B[0mstrip\u001B[0m\u001B[1;33m(\u001B[0m\u001B[1;33m)\u001B[0m\u001B[1;33m.\u001B[0m\u001B[0msplit\u001B[0m\u001B[1;33m(\u001B[0m\u001B[1;33m)\u001B[0m\u001B[1;33m\u001B[0m\u001B[1;33m\u001B[0m\u001B[0m\n\u001B[0m\u001B[0;32m      5\u001B[0m \u001B[0msave_emp\u001B[0m\u001B[1;33m(\u001B[0m\u001B[0mEmp\u001B[0m\u001B[1;33m(\u001B[0m\u001B[0mnum\u001B[0m\u001B[1;33m,\u001B[0m\u001B[0mname\u001B[0m\u001B[1;33m,\u001B[0m\u001B[0mphone\u001B[0m\u001B[1;33m)\u001B[0m\u001B[1;33m)\u001B[0m\u001B[1;33m\u001B[0m\u001B[1;33m\u001B[0m\u001B[0m\n\u001B[0;32m      6\u001B[0m \u001B[0mshow_list\u001B[0m\u001B[1;33m(\u001B[0m\u001B[0mload_emps\u001B[0m\u001B[1;33m(\u001B[0m\u001B[1;33m)\u001B[0m\u001B[1;33m)\u001B[0m\u001B[1;33m\u001B[0m\u001B[1;33m\u001B[0m\u001B[0m\n",
      "\u001B[1;31mValueError\u001B[0m: not enough values to unpack (expected 3, got 0)"
     ]
    }
   ],
   "source": [
    "# 키보드에서 num,name,phone 을 입력 받아서 emps.txt 에 한행으로 추가\n",
    "# 목록보기 기능을 실행하면 추가된 정보가 표시되어야 함\n",
    "\n",
    "num,name,phone = input('번호 이름 전화: ').strip().split()\n",
    "save_emp(Emp(num,name,phone))\n",
    "show_list(load_emps())"
   ],
   "metadata": {
    "collapsed": false,
    "pycharm": {
     "name": "#%%\n"
    }
   }
  },
  {
   "cell_type": "code",
   "execution_count": 98,
   "outputs": [
    {
     "name": "stdout",
     "output_type": "stream",
     "text": [
      "11\tKing\t010-2147-5201\n",
      "12\tSuzan\t010-3697-2145\n",
      "13\tBlake\t010-8520-1250\n",
      "14\tLora\t010-2321-3215\n",
      "15\tBany\t010-3213-7664\n",
      "16\tSandy\t010-3213-7654\n",
      "17\tPany\t010-5431-5091\n",
      "18\tLon\t010-5431-5490\n"
     ]
    }
   ],
   "source": [
    "show_list(load_emps())"
   ],
   "metadata": {
    "collapsed": false,
    "pycharm": {
     "name": "#%%\n"
    }
   }
  },
  {
   "cell_type": "code",
   "execution_count": 102,
   "outputs": [
    {
     "ename": "NameError",
     "evalue": "name 'emp' is not defined",
     "output_type": "error",
     "traceback": [
      "\u001B[1;31m---------------------------------------------------------------------------\u001B[0m",
      "\u001B[1;31mNameError\u001B[0m                                 Traceback (most recent call last)",
      "\u001B[1;32m~\\AppData\\Local\\Temp/ipykernel_12456/455908788.py\u001B[0m in \u001B[0;36m<module>\u001B[1;34m\u001B[0m\n\u001B[0;32m      8\u001B[0m \u001B[1;36m10\u001B[0m \u001B[1;32min\u001B[0m \u001B[0mnums\u001B[0m       \u001B[1;31m# 10==3, 10==4, 10==5\u001B[0m\u001B[1;33m\u001B[0m\u001B[1;33m\u001B[0m\u001B[0m\n\u001B[0;32m      9\u001B[0m \u001B[1;33m\u001B[0m\u001B[0m\n\u001B[1;32m---> 10\u001B[1;33m \u001B[0memp\u001B[0m \u001B[1;32min\u001B[0m \u001B[0memps\u001B[0m      \u001B[1;31m# emp == emps[0], emp == emps[1]..\u001B[0m\u001B[1;33m\u001B[0m\u001B[1;33m\u001B[0m\u001B[0m\n\u001B[0m",
      "\u001B[1;31mNameError\u001B[0m: name 'emp' is not defined"
     ]
    }
   ],
   "source": [
    "# 키보드에서 입력된 사원번홀르 키워드로 emps.txt에서 검색하여\n",
    "# 검색된 사원정보를 화면에 표시한다\n",
    "# find_emp(emp) :Emp 객체 리턴\n",
    "# [Emp, Emp, ...]\n",
    "\n",
    "nums = [3,4,5]\n",
    "5 in nums\n",
    "10 in nums       # 10==3, 10==4, 10==5\n",
    "\n",
    "emp in emps      # emp == emps[0], emp == emps[1]..\n",
    "\n"
   ],
   "metadata": {
    "collapsed": false,
    "pycharm": {
     "name": "#%%\n"
    }
   }
  },
  {
   "cell_type": "code",
   "execution_count": 113,
   "outputs": [
    {
     "name": "stdout",
     "output_type": "stream",
     "text": [
      "12\tSuzan\t010-3697-2145\n"
     ]
    }
   ],
   "source": [
    "# 파일 데이터를 로드\n",
    "emplist = load_emps()\n",
    "# 위에서 로드된 리스트로부터 키보드에서 입력된 사원번호의 Emp객체의 포함여부 확인\n",
    "sNum = input('검색하려는 번호를 입력해 주세요')\n",
    "emp = Emp(sNum.strip())\n",
    "found = None\n",
    "if emp in emplist:\n",
    "    found = emplist[emplist.index(emp)]\n",
    "\n",
    "if found:\n",
    "    print(found)\n",
    "else:\n",
    "    print('검색실패')\n"
   ],
   "metadata": {
    "collapsed": false,
    "pycharm": {
     "name": "#%%\n"
    }
   }
  },
  {
   "cell_type": "code",
   "execution_count": 116,
   "outputs": [],
   "source": [
    "def find_emp(emp):\n",
    "    found=None\n",
    "    if emp in emplist:\n",
    "        found=emplist[emplist.index(emp)]\n",
    "    return found"
   ],
   "metadata": {
    "collapsed": false,
    "pycharm": {
     "name": "#%%\n"
    }
   }
  },
  {
   "cell_type": "code",
   "execution_count": 119,
   "outputs": [
    {
     "name": "stdout",
     "output_type": "stream",
     "text": [
      "13\tBlake\t010-8520-1250\n"
     ]
    }
   ],
   "source": [
    "sNum = input('검색하려는 사원의 번호: ')\n",
    "emp = Emp(sNum.strip())\n",
    "found  = find_emp(emp)\n",
    "if found:\n",
    "    print(found)\n",
    "else:\n",
    "    print('검색실패')"
   ],
   "metadata": {
    "collapsed": false,
    "pycharm": {
     "name": "#%%\n"
    }
   }
  },
  {
   "cell_type": "code",
   "execution_count": null,
   "outputs": [],
   "source": [
    "#키보드에서 사번, 전화번호를 받아서 해당사원의 정보를 갱신\n",
    "#update_emp(emp) : True / False"
   ],
   "metadata": {
    "collapsed": false,
    "pycharm": {
     "name": "#%%\n"
    }
   }
  },
  {
   "cell_type": "code",
   "execution_count": 122,
   "outputs": [
    {
     "name": "stdout",
     "output_type": "stream",
     "text": [
      "11,\tNone\t010-2315-2575\n"
     ]
    }
   ],
   "source": [
    "num, phone = input('사원 번호 전화: ').strip().split()\n",
    "key = Emp(num, phone=phone)\n",
    "print(key)"
   ],
   "metadata": {
    "collapsed": false,
    "pycharm": {
     "name": "#%%\n"
    }
   }
  },
  {
   "cell_type": "code",
   "execution_count": null,
   "outputs": [],
   "source": [
    "def overwrite(emplist):\n"
   ],
   "metadata": {
    "collapsed": false,
    "pycharm": {
     "name": "#%%\n"
    }
   }
  },
  {
   "cell_type": "code",
   "execution_count": 125,
   "outputs": [
    {
     "name": "stdout",
     "output_type": "stream",
     "text": [
      "11\tKing\t010-2147-5201\n",
      "12\tSuzan\t010-3697-2145\n",
      "13\tBlake\t010-8520-1250\n",
      "14\tLora\t010-2321-3215\n",
      "15\tBany\t010-3213-7664\n",
      "16\tSandy\t010-3213-7654\n",
      "17\tPany\t010-5431-5091\n",
      "18\tLon\t010-5431-5490\n"
     ]
    }
   ],
   "source": [
    "# 사원정보 로드\n",
    "emplist = load_emps()\n",
    "if key in emplist:\n",
    "    emplist[emplist.index(key)].phone = key.phone\n",
    "show_list(emplist)"
   ],
   "metadata": {
    "collapsed": false,
    "pycharm": {
     "name": "#%%\n"
    }
   }
  },
  {
   "cell_type": "code",
   "execution_count": null,
   "outputs": [],
   "source": [],
   "metadata": {
    "collapsed": false,
    "pycharm": {
     "name": "#%%\n"
    }
   }
  }
 ],
 "metadata": {
  "kernelspec": {
   "display_name": "Python 3 (ipykernel)",
   "language": "python",
   "name": "python3"
  },
  "language_info": {
   "codemirror_mode": {
    "name": "ipython",
    "version": 3
   },
   "file_extension": ".py",
   "mimetype": "text/x-python",
   "name": "python",
   "nbconvert_exporter": "python",
   "pygments_lexer": "ipython3",
   "version": "3.9.7"
  }
 },
 "nbformat": 4,
 "nbformat_minor": 5
}