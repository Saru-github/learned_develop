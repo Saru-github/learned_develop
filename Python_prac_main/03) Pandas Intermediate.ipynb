{
 "cells": [
  {
   "cell_type": "code",
   "execution_count": null,
   "outputs": [],
   "source": [
    "# Q1. 데이터를 로딩해보세요 ^^\n",
    "# chipotle.tsv\n",
    "# 확장자가 csv가 아닌점에 유의하세요\n",
    "\n",
    "\n",
    "import pandas as pd\n",
    "chipo_df = pd.read_csv('./data/chipotle.tsv', sep='\\t')\n",
    "chipo_df.head(2)\n",
    "\n",
    "# csv Comma Seperate Value\n",
    "# tsv Tab Seperate Value"
   ],
   "metadata": {
    "collapsed": false,
    "pycharm": {
     "name": "#%%\n"
    }
   }
  },
  {
   "cell_type": "code",
   "execution_count": null,
   "outputs": [],
   "source": [
    "# Q2. quantity의 컬럼값이 3인 데이터를 추출해보세요.\n",
    "# 그리고 그 데이터의 첫 5행만 가져와보세요 (head를 쓰세요)"
   ],
   "metadata": {
    "collapsed": false,
    "pycharm": {
     "name": "#%%\n"
    }
   }
  },
  {
   "cell_type": "code",
   "execution_count": null,
   "outputs": [],
   "source": [
    "chipo_df[chipo_df['quantity']==3].head(5)"
   ],
   "metadata": {
    "collapsed": false,
    "pycharm": {
     "name": "#%%\n"
    }
   }
  },
  {
   "cell_type": "code",
   "execution_count": null,
   "outputs": [],
   "source": [
    "# Q3. Q2번에서 가져온 데이터의 index를 재정의 해보세요.\n",
    "# reset_index를 활용"
   ],
   "metadata": {
    "collapsed": false,
    "pycharm": {
     "name": "#%%\n"
    }
   }
  },
  {
   "cell_type": "code",
   "execution_count": null,
   "outputs": [],
   "source": [
    "chipo_df[chipo_df['quantity']==3].reset_index() "
   ],
   "metadata": {
    "collapsed": false,
    "pycharm": {
     "name": "#%%\n"
    }
   }
  },
  {
   "cell_type": "code",
   "execution_count": null,
   "outputs": [],
   "source": [
    "#Q4. quantity, item_name 두 개의 컬럼으로 구성된 새로운 df를 정의해주세요 ^^"
   ],
   "metadata": {
    "collapsed": false,
    "pycharm": {
     "name": "#%%\n"
    }
   }
  },
  {
   "cell_type": "code",
   "execution_count": null,
   "outputs": [],
   "source": [
    "answer_q4= chipo_df[['quantity','item_name']]\n",
    "print(answer_q4)"
   ],
   "metadata": {
    "collapsed": false,
    "pycharm": {
     "name": "#%%\n"
    }
   }
  },
  {
   "cell_type": "markdown",
   "source": [
    "난이도 상\n",
    "\n",
    "\n",
    "Q5. item_price값에서 달러표시를 제거하고, float64로 데이터를 바꾸어\n",
    "new_price라고 하는 컬럼값에 넣어서\n",
    "chipo_df를 재정의 해보세요."
   ],
   "metadata": {
    "collapsed": false,
    "pycharm": {
     "name": "#%% md\n"
    }
   }
  },
  {
   "cell_type": "code",
   "execution_count": null,
   "outputs": [],
   "source": [
    "chipo_df['new_price'] = chipo_df.item_price.str[1:].astype('float64')\n",
    "chipo_df.head(5)\n",
    "chipo_df.info()"
   ],
   "metadata": {
    "collapsed": false,
    "pycharm": {
     "name": "#%%\n"
    }
   }
  },
  {
   "cell_type": "code",
   "execution_count": null,
   "outputs": [],
   "source": [
    "# Q6. new_price 컬럼이 5이하의 값을 갖는 df를 추출하고 \n",
    "# 전체 obs 개수를 구해보세요"
   ],
   "metadata": {
    "collapsed": false,
    "pycharm": {
     "name": "#%%\n"
    }
   }
  },
  {
   "cell_type": "code",
   "execution_count": null,
   "outputs": [],
   "source": [
    "chipo_df[chipo_df.new_price<=5].shape[0]"
   ],
   "metadata": {
    "collapsed": false,
    "pycharm": {
     "name": "#%%\n"
    }
   }
  },
  {
   "cell_type": "code",
   "execution_count": null,
   "outputs": [],
   "source": [
    "# Q7. item_name 명이 Chicken Salad Bowl 인 df를 추출하고\n",
    "# index를 재정의해보세요 :: reset_index"
   ],
   "metadata": {
    "collapsed": false,
    "pycharm": {
     "name": "#%%\n"
    }
   }
  },
  {
   "cell_type": "code",
   "execution_count": null,
   "outputs": [],
   "source": [
    "chipo_df[chipo_df.item_name=='Chicken Salad Bowl'].reset_index()"
   ],
   "metadata": {
    "collapsed": false,
    "pycharm": {
     "name": "#%%\n"
    }
   }
  },
  {
   "cell_type": "code",
   "execution_count": null,
   "outputs": [],
   "source": [
    "# Q8. new_price 값이 9이하이고 item_name값이 Chicken Salad Bowl인 df\n",
    "# 를 추출해보세요."
   ],
   "metadata": {
    "collapsed": false,
    "pycharm": {
     "name": "#%%\n"
    }
   }
  },
  {
   "cell_type": "code",
   "execution_count": null,
   "outputs": [],
   "source": [
    "chipo_df[(chipo_df.new_price<=9)&(chipo_df.item_name=='Chicken Salad Bowl')]"
   ],
   "metadata": {
    "collapsed": false,
    "pycharm": {
     "name": "#%%\n"
    }
   }
  },
  {
   "cell_type": "code",
   "execution_count": null,
   "outputs": [],
   "source": [
    "# Q9. chipo_df의 new_price 컬럼 값을 오름차순 :: 기억하자 ascending!!!\n",
    "# 으로 정렬하고 index를 재정의해보세요."
   ],
   "metadata": {
    "collapsed": false,
    "pycharm": {
     "name": "#%%\n"
    }
   }
  },
  {
   "cell_type": "code",
   "execution_count": null,
   "outputs": [],
   "source": [],
   "metadata": {
    "collapsed": false,
    "pycharm": {
     "name": "#%%\n"
    }
   }
  },
  {
   "cell_type": "code",
   "execution_count": null,
   "outputs": [],
   "source": [
    "# 난이도 중상\n",
    "# Q10. chipo_df의 item_name 컬럼 값 중에서 Chips를 포함하는 \n",
    "# 전체 경우의 데이터를 출력해보세요.\n",
    "\n",
    "chipo_df[chipo_df.item_name.str.contains('Chips')]['item_name'].value_counts()"
   ],
   "metadata": {
    "collapsed": false,
    "pycharm": {
     "name": "#%%\n"
    }
   }
  },
  {
   "cell_type": "code",
   "execution_count": null,
   "outputs": [],
   "source": [
    "chipo_df.head(2)"
   ],
   "metadata": {
    "collapsed": false,
    "pycharm": {
     "name": "#%%\n"
    }
   }
  },
  {
   "cell_type": "code",
   "execution_count": null,
   "outputs": [],
   "source": [
    "# Q11. chipo_df의 new_price 컬럼값에 따라 내림차순으로 정리하고\n",
    "# index를 재정의 해보세요"
   ],
   "metadata": {
    "collapsed": false,
    "pycharm": {
     "name": "#%%\n"
    }
   }
  },
  {
   "cell_type": "code",
   "execution_count": null,
   "outputs": [],
   "source": [
    "answer_q11 = chipo_df.sort_values(by='new_price', ascending=False).reset_index()\n",
    "print(answer_q11)"
   ],
   "metadata": {
    "collapsed": false,
    "pycharm": {
     "name": "#%%\n"
    }
   }
  },
  {
   "cell_type": "code",
   "execution_count": null,
   "outputs": [],
   "source": [
    "# Q12. chipo_df의 item_name의 column 값이 Steak Salad  또는 Burrito인\n",
    "# 데이터를 인덱싱해보세요."
   ],
   "metadata": {
    "collapsed": false,
    "pycharm": {
     "name": "#%%\n"
    }
   }
  },
  {
   "cell_type": "code",
   "execution_count": null,
   "outputs": [],
   "source": [
    "chipo_df[(chipo_df.item_name=='Steak Salad')|(chipo_df.item_name=='Burrito')]"
   ],
   "metadata": {
    "collapsed": false,
    "pycharm": {
     "name": "#%%\n"
    }
   }
  },
  {
   "cell_type": "code",
   "execution_count": null,
   "outputs": [],
   "source": [
    "# Q13. chipo_df의 new_price에서 평균값 이상의 데이터들만 인덱싱해보세요"
   ],
   "metadata": {
    "collapsed": false,
    "pycharm": {
     "name": "#%%\n"
    }
   }
  },
  {
   "cell_type": "code",
   "execution_count": null,
   "outputs": [],
   "source": [
    "import numpy as np\n",
    "\n",
    "cond = chipo_df.new_price>=np.mean(chipo_df.new_price)\n",
    "chipo_df[cond]"
   ],
   "metadata": {
    "collapsed": false,
    "pycharm": {
     "name": "#%%\n"
    }
   }
  },
  {
   "cell_type": "code",
   "execution_count": null,
   "outputs": [],
   "source": [
    "chipo_df[chipo_df.new_price>=chipo_df.new_price.mean()]"
   ],
   "metadata": {
    "collapsed": false,
    "pycharm": {
     "name": "#%%\n"
    }
   }
  },
  {
   "cell_type": "code",
   "execution_count": null,
   "outputs": [],
   "source": [
    "# Q14. chipo_df에서 결측치를 확인해보세요.\n",
    "# hint: isna().sum()"
   ],
   "metadata": {
    "collapsed": false,
    "pycharm": {
     "name": "#%%\n"
    }
   }
  },
  {
   "cell_type": "code",
   "execution_count": null,
   "outputs": [],
   "source": [
    "chipo_df.isna().sum()"
   ],
   "metadata": {
    "collapsed": false,
    "pycharm": {
     "name": "#%%\n"
    }
   }
  },
  {
   "cell_type": "code",
   "execution_count": null,
   "outputs": [],
   "source": [
    "# Q15. 결측치가 있다면 결측치 값을 'N'으로 대체해보세요\n",
    "# inplace = True , fillna를 써주시면 "
   ],
   "metadata": {
    "collapsed": false,
    "pycharm": {
     "name": "#%%\n"
    }
   }
  },
  {
   "cell_type": "code",
   "execution_count": null,
   "outputs": [],
   "source": [
    "# 풀이법-1\n",
    "chipo_df.choice_description.fillna('N', inplace=True)\n",
    "chipo_df.isna().sum()"
   ],
   "metadata": {
    "collapsed": false,
    "pycharm": {
     "name": "#%%\n"
    }
   }
  },
  {
   "cell_type": "code",
   "execution_count": null,
   "outputs": [],
   "source": [
    "# 풀이법 - 2\n",
    "# reassignment :: 재할당\n",
    "chipo_df['choice_description'] = chipo_df.choice_description.fillna('N')"
   ],
   "metadata": {
    "collapsed": false,
    "pycharm": {
     "name": "#%%\n"
    }
   }
  },
  {
   "cell_type": "code",
   "execution_count": 113,
   "id": "db832334",
   "metadata": {
    "pycharm": {
     "name": "#%%\n"
    }
   },
   "outputs": [],
   "source": [
    "# 풀이법 - 2\n",
    "# reassignment :: 재할당\n",
    "chipo_df['choice_description'] = chipo_df.choice_description.fillna('N')"
   ]
  },
  {
   "cell_type": "code",
   "execution_count": 25,
   "id": "9321153b",
   "metadata": {
    "pycharm": {
     "name": "#%%\n"
    }
   },
   "outputs": [],
   "source": [
    "# Q16. chipo_df choice_description의 값에 Black이 들어가는 경우를\n",
    "# 인덱싱해보세요."
   ]
  },
  {
   "cell_type": "code",
   "execution_count": 120,
   "id": "6241f244",
   "metadata": {
    "pycharm": {
     "name": "#%%\n"
    }
   },
   "outputs": [
    {
     "data": {
      "text/plain": [
       "[Fresh Tomato Salsa, [Rice, Black Beans, Cheese, Sour Cream, Lettuce]]                                                       42\n",
       "[Fresh Tomato Salsa, [Rice, Black Beans, Cheese, Sour Cream, Guacamole, Lettuce]]                                            40\n",
       "[Fresh Tomato Salsa, [Rice, Black Beans, Cheese, Sour Cream]]                                                                33\n",
       "[Fresh Tomato Salsa, [Rice, Black Beans, Cheese]]                                                                            28\n",
       "[Fresh Tomato Salsa, [Rice, Black Beans, Cheese, Lettuce]]                                                                   25\n",
       "                                                                                                                             ..\n",
       "[[Fresh Tomato Salsa (Mild), Roasted Chili Corn Salsa (Medium)], [Black Beans, Rice, Fajita Veggies, Cheese, Sour Cream]]     1\n",
       "[Fresh Tomato Salsa, [Rice, Black Beans, Pinto Beans, Guacamole, Lettuce]]                                                    1\n",
       "[Tomatillo-Green Chili Salsa (Medium), [Black Beans, Rice, Cheese, Sour Cream]]                                               1\n",
       "[Fresh Tomato Salsa, [Black Beans, Cheese, Lettuce]]                                                                          1\n",
       "[Tomatillo Green Chili Salsa, [Rice, Fajita Vegetables, Black Beans, Guacamole]]                                              1\n",
       "Name: choice_description, Length: 459, dtype: int64"
      ]
     },
     "execution_count": 120,
     "metadata": {},
     "output_type": "execute_result"
    }
   ],
   "source": [
    "chipo_df[chipo_df.choice_description.str.contains('Black')].choice_description.value_counts()"
   ]
  },
  {
   "cell_type": "code",
   "execution_count": 26,
   "id": "1f850ddb",
   "metadata": {
    "pycharm": {
     "name": "#%%\n"
    }
   },
   "outputs": [],
   "source": [
    "# end of file"
   ]
  }
 ],
 "metadata": {
  "kernelspec": {
   "display_name": "Python 3 (ipykernel)",
   "language": "python",
   "name": "python3"
  },
  "language_info": {
   "codemirror_mode": {
    "name": "ipython",
    "version": 3
   },
   "file_extension": ".py",
   "mimetype": "text/x-python",
   "name": "python",
   "nbconvert_exporter": "python",
   "pygments_lexer": "ipython3",
   "version": "3.9.7"
  }
 },
 "nbformat": 4,
 "nbformat_minor": 5
}