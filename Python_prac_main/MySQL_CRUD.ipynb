{
 "cells": [
  {
   "cell_type": "code",
   "execution_count": null,
   "id": "b8af552a",
   "metadata": {
    "scrolled": true
   },
   "outputs": [],
   "source": [
    "import pymysql\n",
    " \n",
    "# MySQL Connection 연결\n",
    "#conn = pymysql.connect(host='localhost', user='root', password='tjoeun',\n",
    "#                       db='world', charset='utf8')\n",
    "\n",
    "conn = pymysql.connect(host='152.70.92.222', user='myuser', password='myuserpwd',\n",
    "                      db='mydb', charset='utf8')\n",
    " \n",
    "# Connection 으로부터 Cursor 생성\n",
    "curs = conn.cursor()\n",
    " \n",
    "# SQL문 실행\n",
    "sql = \"SELECT num, name, phone, email FROM user LIMIT 10\"\n",
    "curs.execute(sql)\n",
    " \n",
    "# 데이타 Fetch\n",
    "rows = curs.fetchall()  # ((),(),...)\n",
    "\n",
    "for (num,name,phone,email) in rows:\n",
    "    print(num,name,phone,email)\n",
    "\n",
    "curs.close()    \n",
    "# Connection 닫기\n",
    "conn.close()"
   ]
  },
  {
   "cell_type": "code",
   "execution_count": null,
   "id": "d43410fe",
   "metadata": {},
   "outputs": [],
   "source": [
    "class User:\n",
    "    def __init__(self, num, name=None, phone=None, email=None):\n",
    "        self.num = num\n",
    "        self.name = name\n",
    "        self.phone = phone\n",
    "        self.email = email\n",
    "        \n",
    "    def __str__(self):\n",
    "        return '{}\\t{}\\t{}\\t{}'.format(self.num, self.name, self.phone, self.email)\n",
    "    \n",
    "    def __eq__(self, other):\n",
    "        return self.num == other.num"
   ]
  },
  {
   "cell_type": "code",
   "execution_count": null,
   "id": "bf4d6be7",
   "metadata": {},
   "outputs": [],
   "source": [
    "import pymysql\n",
    "\n",
    "class TestDAO:\n",
    "    def __init__(self ):\n",
    "        self.conn = pymysql.connect(host='152.70.92.222', user='myuser', password='myuserpwd',\n",
    "                      db='mydb', charset='utf8')\n",
    "        print('DB 접속 성공')\n",
    "        \n",
    "    def list_all(self):\n",
    "        sql = 'SELECT * FROM user'\n",
    "        with self.conn.cursor() as curs:\n",
    "            curs.execute(sql)\n",
    "            rows = curs.fetchall()\n",
    "            userlist = []\n",
    "            for num,name,phone,email in rows:\n",
    "                userlist.append(User(num,name,phone,email))\n",
    "        self.conn.close()\n",
    "        return userlist"
   ]
  },
  {
   "cell_type": "code",
   "execution_count": null,
   "id": "d786e5dc",
   "metadata": {},
   "outputs": [],
   "source": [
    "dao = TestDAO()\n",
    "ulist = dao.list_all()\n",
    "for u in ulist:\n",
    "    print(u)"
   ]
  },
  {
   "cell_type": "code",
   "execution_count": null,
   "id": "610a3a3b",
   "metadata": {},
   "outputs": [],
   "source": [
    "import pymysql\n",
    " \n",
    "# MySQL Connection 생성\n",
    "conn = pymysql.connect(host='localhost', user='root', password='tjoeun',\n",
    "                       db='test', charset='utf8')\n",
    " \n",
    "# 다수개의 행을 입력하는 경우\n",
    "vals = ((\"Smith\", \"010-5417-3251\", \"smith@daum.net\"), \n",
    "        (\"Blake\", \"010-2547-3210\", \"blake@naver.com\"))\n",
    "sql = \"INSERT INTO user(name, phone, email) VALUES (%s,%s,%s)\"\n",
    "# 다수개의 행을 추가하는 경우 executemany() 를 사용한다\n",
    "with conn.cursor() as cursor:\n",
    "    n = cursor.executemany(sql, vals )\n",
    "    # cursor.execute(sql,('a','b','c')) 이와같은 문장을 반복해서 다수행을 입력할 수도 있다\n",
    "    if n==2:\n",
    "        print('2개행 입력성공')\n",
    "        conn.commit()  # commit을 사용하지 않으면 테이블에 반영되지 않음\n",
    "\n",
    "conn.close()\n",
    "print('사용자 추가 성공')"
   ]
  },
  {
   "cell_type": "code",
   "execution_count": null,
   "id": "214ce454",
   "metadata": {},
   "outputs": [],
   "source": [
    "import pymysql\n",
    " \n",
    "# MySQL Connection 생성\n",
    "conn = pymysql.connect(host='localhost', user='root', password='tjoeun',\n",
    "                       db='test', charset='utf8')\n",
    " \n",
    "# Update\n",
    "sql = \"UPDATE user SET phone=%s WHERE num=%s\"\n",
    "\n",
    "with conn.cursor() as cursor:\n",
    "    n = cursor.execute(sql, ('010-3333-7777', 14) )\n",
    "\n",
    "    if n==1:\n",
    "        print('수정 성공')\n",
    "        conn.commit()\n",
    "\n",
    "conn.close()"
   ]
  },
  {
   "cell_type": "code",
   "execution_count": null,
   "id": "2da1e4ca",
   "metadata": {},
   "outputs": [],
   "source": [
    "import pymysql\n",
    " \n",
    "# MySQL Connection 생성\n",
    "conn = pymysql.connect(host='localhost', user='root', password='tjoeun',\n",
    "                       db='test', charset='utf8')\n",
    " \n",
    "# Update\n",
    "sql = \"DELETE FROM user WHERE num=%s\"\n",
    "\n",
    "with conn.cursor() as cursor:\n",
    "    n = cursor.execute(sql, 15 )\n",
    "\n",
    "    if n==1:\n",
    "        print('삭제 성공')\n",
    "        conn.commit()\n",
    "\n",
    "conn.close()"
   ]
  },
  {
   "cell_type": "code",
   "execution_count": 1,
   "id": "3bc3dbc5",
   "metadata": {},
   "outputs": [],
   "source": [
    "def list_all():\n",
    "    udao = UserDAO()\n",
    "    userlist = udao.list_all()\n",
    "    for u in userlist:\n",
    "        print(u)"
   ]
  },
  {
   "cell_type": "code",
   "execution_count": 2,
   "id": "0979ad8a",
   "metadata": {},
   "outputs": [],
   "source": [
    "def add(user):\n",
    "    udao = UserDAO()\n",
    "    return udao.add(user)"
   ]
  },
  {
   "cell_type": "code",
   "execution_count": 3,
   "id": "db754c4b",
   "metadata": {},
   "outputs": [],
   "source": [
    "def find_user():\n",
    "    n_m = input('번호(n)로 검색 혹은 이름(m)으로 검색:').strip().upper()\n",
    "    udao = UserDAO()\n",
    "    user = None\n",
    "    if n_m=='N':\n",
    "        sNum = input('검색대상 번호:').strip()\n",
    "        user = udao.find_by_num(int(sNum))\n",
    "    elif n_m=='M':\n",
    "        name = input('검색대상 이름:').strip()\n",
    "        user = udao.find_by_name(name)\n",
    "    print(user)"
   ]
  },
  {
   "cell_type": "code",
   "execution_count": 4,
   "id": "8a94db10",
   "metadata": {},
   "outputs": [],
   "source": [
    "def update_user():\n",
    "    num,phone,email = input('번호 전화 메일:').strip().split()\n",
    "    udao = UserDAO()\n",
    "    return udao.update_user(User(int(num), phone=phone, email=email))"
   ]
  },
  {
   "cell_type": "code",
   "execution_count": 5,
   "id": "1687b6e1",
   "metadata": {},
   "outputs": [],
   "source": [
    "def delete_user():\n",
    "    num = input('삭제할 대상 번호:').strip()\n",
    "    udao = UserDAO()\n",
    "    return udao.delete_user(int(num))"
   ]
  },
  {
   "cell_type": "code",
   "execution_count": 6,
   "id": "2248f23e",
   "metadata": {},
   "outputs": [
    {
     "name": "stdout",
     "output_type": "stream",
     "text": [
      "목록(s), 추가(a), 검색(f), 수정(u), 삭제(d), 종료(x):d\n",
      "삭제할 대상 번호:21\n",
      "DB 연결 성공\n",
      "삭제 성공\n",
      "목록(s), 추가(a), 검색(f), 수정(u), 삭제(d), 종료(x):s\n",
      "DB 연결 성공\n",
      "11\tandy\t010-2222-3333\tpatrick@daum.net\n",
      "12\tlora\t010-2569-9510\tlora@yahoo.com\n",
      "13\tscott\t010-3254-9510\tscott@abc.com\n",
      "14\tsmith\t010-2547-9520\tsmith@gmail.com\n",
      "15\tward\t010-2541-2103\tward@naver.com\n",
      "16\t박지성\t010-6529-6310\tjspark@play.com\n",
      "17\t홍명보\t010-2547-6501\tmbhong@pro.com\n",
      "18\t김연아\t010-3620-0124\tyakim@kor.com\n",
      "19\t안철심\t010-5210-3201\tcsann@daum.net\n",
      "20\t윤성열\t010-3694-1890\tsyyun@yahoo.com\n",
      "목록(s), 추가(a), 검색(f), 수정(u), 삭제(d), 종료(x):x\n",
      "프로그램 종료...\n"
     ]
    }
   ],
   "source": [
    "from user import User\n",
    "from dao import UserDAO\n",
    "\n",
    "menu = \"목록(s), 추가(a), 검색(f), 수정(u), 삭제(d), 종료(x):\"\n",
    "user_input = None\n",
    "\n",
    "while True:\n",
    "    user_input = input(menu).upper()\n",
    "    \n",
    "    if user_input=='A':\n",
    "        num,name,phone,email = input('번호 이름 전화 이메일 입력:').strip().split()\n",
    "        user = User(int(num),name,phone,email)\n",
    "        if add(user):\n",
    "            print('추가 성공')\n",
    "        else:\n",
    "            print('추가 실패')\n",
    "    elif user_input=='S':\n",
    "        list_all()\n",
    "    elif user_input=='F':\n",
    "        find_user()\n",
    "    elif user_input=='U':\n",
    "        if update_user():\n",
    "            print('수정 성공')\n",
    "        else:\n",
    "            print('수정 실패')\n",
    "    elif user_input=='D':\n",
    "        if delete_user():\n",
    "            print('삭제 성공')\n",
    "        else:\n",
    "            print('삭제 실패')\n",
    "    elif user_input=='X':\n",
    "        break\n",
    "    else:\n",
    "        print('-------- 메뉴입력 오류---------')\n",
    "        \n",
    "print('프로그램 종료...')"
   ]
  },
  {
   "cell_type": "code",
   "execution_count": null,
   "id": "9a417077",
   "metadata": {},
   "outputs": [],
   "source": []
  }
 ],
 "metadata": {
  "kernelspec": {
   "display_name": "Python 3 (ipykernel)",
   "language": "python",
   "name": "python3"
  },
  "language_info": {
   "codemirror_mode": {
    "name": "ipython",
    "version": 3
   },
   "file_extension": ".py",
   "mimetype": "text/x-python",
   "name": "python",
   "nbconvert_exporter": "python",
   "pygments_lexer": "ipython3",
   "version": "3.9.7"
  },
  "vp": {
   "vp_config_version": "1.0.0",
   "vp_menu_width": 273,
   "vp_note_display": true,
   "vp_note_width": 263,
   "vp_position": {
    "width": 541
   },
   "vp_section_display": false,
   "vp_signature": "VisualPython"
  }
 },
 "nbformat": 4,
 "nbformat_minor": 5
}
