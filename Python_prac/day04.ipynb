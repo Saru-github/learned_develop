{
 "cells": [
  {
   "cell_type": "code",
   "execution_count": 4,
   "outputs": [],
   "source": [
    "from Emp import Emp"
   ],
   "metadata": {
    "collapsed": false,
    "pycharm": {
     "name": "#%%\n"
    }
   }
  },
  {
   "cell_type": "code",
   "execution_count": 5,
   "outputs": [],
   "source": [
    "emps = []"
   ],
   "metadata": {
    "collapsed": false,
    "pycharm": {
     "name": "#%%\n"
    }
   }
  },
  {
   "cell_type": "code",
   "execution_count": 6,
   "outputs": [],
   "source": [
    "emps.append(Emp(11, name='smith', phone='010-6541-9870'))\n",
    "emps.append(Emp(12, name='scott', phone='010-3254-2145'))\n",
    "emps.append(Emp(13, name='ward', phone='010-2697-1220'))\n",
    "# emps.index()\n",
    "# dir(emps)"
   ],
   "metadata": {
    "collapsed": false,
    "pycharm": {
     "name": "#%%\n"
    }
   }
  },
  {
   "cell_type": "code",
   "execution_count": 7,
   "outputs": [],
   "source": [
    "def is_duplicate_num(num): # 중복되는 객체가 있으면 True, 아니면 False\n",
    "    nums=[]\n",
    "    for e in emps:\n",
    "        nums.append(e.num)\n",
    "    nums.append(num)\n",
    "    return len(nums)!=len(set(nums))"
   ],
   "metadata": {
    "collapsed": false,
    "pycharm": {
     "name": "#%%\n"
    }
   }
  },
  {
   "cell_type": "code",
   "execution_count": 8,
   "outputs": [],
   "source": [
    "def emp_list():\n",
    "    print(\"번호\\t이름\\t전화\")\n",
    "    for emp in emps:\n",
    "        print(emp)"
   ],
   "metadata": {
    "collapsed": false,
    "pycharm": {
     "name": "#%%\n"
    }
   }
  },
  {
   "cell_type": "code",
   "execution_count": 9,
   "outputs": [],
   "source": [
    "def find_emp_name(name): # 검색성공일 경우 해당 사원정보 리턴, 아니면 None 리턴\n",
    "    emp = None\n",
    "    for e in emps:\n",
    "        if e.name==name:\n",
    "            emp = e\n",
    "            print(emp)\n",
    "    return emp"
   ],
   "metadata": {
    "collapsed": false,
    "pycharm": {
     "name": "#%%\n"
    }
   }
  },
  {
   "cell_type": "code",
   "execution_count": 10,
   "outputs": [],
   "source": [
    "def update_emp(num, newPhone):\n",
    "    updated = False\n",
    "    if is_duplicate_num(int(num)):\n",
    "        for emp in emps:\n",
    "            if emp.num == int(num):\n",
    "                emp.phone = newPhone\n",
    "                updated = True\n",
    "    return updated"
   ],
   "metadata": {
    "collapsed": false,
    "pycharm": {
     "name": "#%%\n"
    }
   }
  },
  {
   "cell_type": "code",
   "execution_count": 11,
   "outputs": [],
   "source": [
    "def delete_emp(num):\n",
    "    deleted = False\n",
    "    for emp in emps:\n",
    "        if emp.num == num:\n",
    "            try:\n",
    "                emps.remove(emp)\n",
    "                deleted = True\n",
    "            except ValueError as ve:\n",
    "                pass\n",
    "    return deleted"
   ],
   "metadata": {
    "collapsed": false,
    "pycharm": {
     "name": "#%%\n"
    }
   }
  },
  {
   "cell_type": "code",
   "execution_count": 12,
   "outputs": [
    {
     "name": "stdout",
     "output_type": "stream",
     "text": [
      "-----------------------------------------------------------\n",
      "---------------------------------------------------------\n",
      "\n",
      "프로그램 종료\n"
     ]
    }
   ],
   "source": [
    "while True:\n",
    "    print(\"-----------------------------------------------------------\")\n",
    "    menu = input(\"추가(a), 목록(s), 검색(f), 수정(u), 삭제(d), 종료(x): \")\n",
    "    print(\"---------------------------------------------------------\\n\")\n",
    "\n",
    "    if menu.upper() == 'A':\n",
    "        (num,name,phone) = input(\"사원 번호 이름 전화: \").split()\n",
    "        if is_duplicate_num(int(num)) != True:\n",
    "            emps.append(Emp(int(num),name,phone))\n",
    "            print(\"사원정보 저장 성공\")\n",
    "        else:\n",
    "            print(\"사원정보 중복, 다시 입력해주세요\")\n",
    "\n",
    "    elif menu.upper()=='S':\n",
    "        emp_list()\n",
    "\n",
    "    elif menu.upper()=='F':\n",
    "        name = input(\"검색할 사원이름: \")\n",
    "        if not find_emp_name(name):\n",
    "            print('입력된 이름으로 검색 실패')\n",
    "\n",
    "    elif menu.upper()=='U':\n",
    "        num,phone = input(\"수정할 사원번호 및 전화번호: \").split()\n",
    "        if update_emp(num,phone):\n",
    "            print('수정 성공')\n",
    "        else:\n",
    "            print('수정 실패')\n",
    "\n",
    "    elif menu.upper()=='D':\n",
    "        num = input(\"삭제할 회원번호: \").strip()\n",
    "        if delete_emp(int(num)):\n",
    "            print(\"삭제 성공\")\n",
    "        else:\n",
    "            print(\"삭제 실패\")\n",
    "\n",
    "    elif menu.upper() == 'X':\n",
    "        print('프로그램 종료')\n",
    "        break\n",
    "    else:\n",
    "        print('======== 메뉴 입력오류 ========')"
   ],
   "metadata": {
    "collapsed": false,
    "pycharm": {
     "name": "#%%\n"
    }
   }
  },
  {
   "cell_type": "code",
   "execution_count": 13,
   "outputs": [
    {
     "data": {
      "text/plain": "8"
     },
     "execution_count": 13,
     "metadata": {},
     "output_type": "execute_result"
    }
   ],
   "source": [
    "import random\n",
    "random.randint(1,10)"
   ],
   "metadata": {
    "collapsed": false,
    "pycharm": {
     "name": "#%%\n"
    }
   }
  },
  {
   "cell_type": "code",
   "execution_count": 14,
   "outputs": [
    {
     "data": {
      "text/plain": "6"
     },
     "execution_count": 14,
     "metadata": {},
     "output_type": "execute_result"
    }
   ],
   "source": [
    "from random import randint\n",
    "randint(1,10)"
   ],
   "metadata": {
    "collapsed": false,
    "pycharm": {
     "name": "#%%\n"
    }
   }
  },
  {
   "cell_type": "code",
   "execution_count": 15,
   "outputs": [
    {
     "name": "stdout",
     "output_type": "stream",
     "text": [
      "class Emp:\n",
      "\n",
      "    def __init__(self, num, name=None, phone=None):\n",
      "        self.num = num\n",
      "        self.name = name\n",
      "        self.phone = phone\n",
      "\n",
      "    def __str__(self):\n",
      "        return(f\"{self.num}\\t{self.name}\\t{self.phone}\")\n",
      "\n",
      "    def __eq__(self, other):\n",
      "        return self.num == other.num\n",
      "\n"
     ]
    }
   ],
   "source": [
    "fstream = open('emp.py', 'r')\n",
    "data = fstream.read()\n",
    "print(data)\n",
    "fstream.close()"
   ],
   "metadata": {
    "collapsed": false,
    "pycharm": {
     "name": "#%%\n"
    }
   }
  },
  {
   "cell_type": "code",
   "execution_count": 16,
   "outputs": [
    {
     "name": "stdout",
     "output_type": "stream",
     "text": [
      "class Emp:\n",
      "\n",
      "    def __init__(self, num, name=None, phone=None):\n",
      "        self.num = num\n",
      "        self.name = name\n",
      "        self.phone = phone\n",
      "\n",
      "    def __str__(self):\n",
      "        return(f\"{self.num}\\t{self.name}\\t{self.phone}\")\n",
      "\n",
      "    def __eq__(self, other):\n",
      "        return self.num == other.num\n",
      "\n"
     ]
    }
   ],
   "source": [
    "# open('emp.py','r') # 파일 읽어오기\n",
    "with open('emp.py','r', encoding='utf-8') as fstream:\n",
    "    data = fstream.read()\n",
    "    print(data)"
   ],
   "metadata": {
    "collapsed": false,
    "pycharm": {
     "name": "#%%\n"
    }
   }
  },
  {
   "cell_type": "code",
   "execution_count": 17,
   "outputs": [
    {
     "name": "stdout",
     "output_type": "stream",
     "text": [
      "['class Emp:\\n', '\\n', '    def __init__(self, num, name=None, phone=None):\\n', '        self.num = num\\n', '        self.name = name\\n', '        self.phone = phone\\n', '\\n', '    def __str__(self):\\n', '        return(f\"{self.num}\\\\t{self.name}\\\\t{self.phone}\")\\n', '\\n', '    def __eq__(self, other):\\n', '        return self.num == other.num\\n']\n"
     ]
    }
   ],
   "source": [
    "with open('emp.py','r', encoding='utf-8') as fstream:\n",
    "    data = fstream.readlines() # list\n",
    "    print(data)"
   ],
   "metadata": {
    "collapsed": false,
    "pycharm": {
     "name": "#%%\n"
    }
   }
  }
 ],
 "metadata": {
  "kernelspec": {
   "display_name": "Python 3",
   "language": "python",
   "name": "python3"
  },
  "language_info": {
   "codemirror_mode": {
    "name": "ipython",
    "version": 2
   },
   "file_extension": ".py",
   "mimetype": "text/x-python",
   "name": "python",
   "nbconvert_exporter": "python",
   "pygments_lexer": "ipython2",
   "version": "2.7.6"
  }
 },
 "nbformat": 4,
 "nbformat_minor": 0
}