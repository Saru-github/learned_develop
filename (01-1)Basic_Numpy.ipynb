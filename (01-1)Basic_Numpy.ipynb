{
 "cells": [
  {
   "cell_type": "code",
   "execution_count": 5,
   "outputs": [],
   "source": [
    "# 리스트\n",
    "import numpy\n",
    "\n",
    "l1 = [168, 169, 187]\n",
    "l2 = ['A', 'B', 168]"
   ],
   "metadata": {
    "collapsed": false,
    "pycharm": {
     "name": "#%%\n"
    }
   }
  },
  {
   "cell_type": "code",
   "execution_count": 14,
   "outputs": [
    {
     "name": "stdout",
     "output_type": "stream",
     "text": [
      "array1은 1차원\n",
      "array1의 shape: (3,)\n",
      "array1: ['A' 'B' '168']\n"
     ]
    }
   ],
   "source": [
    "# 넘파이라는 모듈을 호출\n",
    "import numpy as np\n",
    "array1 = np.array(l2)\n",
    "\n",
    "\n",
    "print(\"array1은 {0}차원\".format(array1.ndim))\n",
    "print(\"array1의 shape:\", array1.shape)\n",
    "print(\"array1:\", array1)"
   ],
   "metadata": {
    "collapsed": false,
    "pycharm": {
     "name": "#%%\n"
    }
   }
  },
  {
   "cell_type": "code",
   "execution_count": 13,
   "outputs": [
    {
     "data": {
      "text/plain": "array([[ 1,  2,  3],\n       [11, 22, 33]])"
     },
     "execution_count": 13,
     "metadata": {},
     "output_type": "execute_result"
    }
   ],
   "source": [
    "l3 = [[1,2,3],\n",
    "      [11,22,33]]\n",
    "\n",
    "\n",
    "array2 = np.array(l3)\n",
    "array2"
   ],
   "metadata": {
    "collapsed": false,
    "pycharm": {
     "name": "#%%\n"
    }
   }
  },
  {
   "cell_type": "code",
   "execution_count": null,
   "outputs": [],
   "source": [
    "\n"
   ],
   "metadata": {
    "collapsed": false,
    "pycharm": {
     "name": "#%%\n"
    }
   }
  }
 ],
 "metadata": {
  "kernelspec": {
   "display_name": "Python 3",
   "language": "python",
   "name": "python3"
  },
  "language_info": {
   "codemirror_mode": {
    "name": "ipython",
    "version": 2
   },
   "file_extension": ".py",
   "mimetype": "text/x-python",
   "name": "python",
   "nbconvert_exporter": "python",
   "pygments_lexer": "ipython2",
   "version": "2.7.6"
  }
 },
 "nbformat": 4,
 "nbformat_minor": 0
}